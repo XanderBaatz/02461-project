{
 "cells": [
  {
   "cell_type": "markdown",
   "metadata": {},
   "source": [
    "# **TinyVGG, BNN and Data Augmentation project**"
   ]
  },
  {
   "cell_type": "markdown",
   "metadata": {},
   "source": [
    "## Resources"
   ]
  },
  {
   "cell_type": "markdown",
   "metadata": {},
   "source": [
    "### Libraries"
   ]
  },
  {
   "cell_type": "code",
   "execution_count": 1,
   "metadata": {},
   "outputs": [],
   "source": [
    "# Import torch\n",
    "import torch\n",
    "from torch import nn\n",
    "\n",
    "# Import TorchVision domain library\n",
    "import torchvision\n",
    "from torchvision import transforms\n",
    "\n",
    "# Impor torchinfo\n",
    "from torchinfo import summary\n",
    "\n",
    "# Import matplot\n",
    "import matplotlib.pyplot as plt\n",
    "\n",
    "#Random\n",
    "import random\n",
    "import math"
   ]
  },
  {
   "cell_type": "markdown",
   "metadata": {},
   "source": [
    "Local scripts etc.:"
   ]
  },
  {
   "cell_type": "code",
   "execution_count": 2,
   "metadata": {},
   "outputs": [
    {
     "name": "stderr",
     "output_type": "stream",
     "text": [
      "2024-01-18 15:03:06.372059: E external/local_xla/xla/stream_executor/cuda/cuda_dnn.cc:9261] Unable to register cuDNN factory: Attempting to register factory for plugin cuDNN when one has already been registered\n",
      "2024-01-18 15:03:06.372081: E external/local_xla/xla/stream_executor/cuda/cuda_fft.cc:607] Unable to register cuFFT factory: Attempting to register factory for plugin cuFFT when one has already been registered\n",
      "2024-01-18 15:03:06.372752: E external/local_xla/xla/stream_executor/cuda/cuda_blas.cc:1515] Unable to register cuBLAS factory: Attempting to register factory for plugin cuBLAS when one has already been registered\n",
      "2024-01-18 15:03:06.377013: I tensorflow/core/platform/cpu_feature_guard.cc:182] This TensorFlow binary is optimized to use available CPU instructions in performance-critical operations.\n",
      "To enable the following instructions: AVX2 FMA, in other operations, rebuild TensorFlow with the appropriate compiler flags.\n",
      "2024-01-18 15:03:07.062216: W tensorflow/compiler/tf2tensorrt/utils/py_utils.cc:38] TF-TRT Warning: Could not find TensorRT\n"
     ]
    }
   ],
   "source": [
    "# Import from script folder\n",
    "from scripts import engine, utils, data_setup\n",
    "from scripts.engine import train\n",
    "\n",
    "# Import from helper functions\n",
    "import helper_functions as hf"
   ]
  },
  {
   "cell_type": "markdown",
   "metadata": {},
   "source": [
    "### Device-agnostic code"
   ]
  },
  {
   "cell_type": "code",
   "execution_count": 3,
   "metadata": {},
   "outputs": [
    {
     "data": {
      "text/plain": [
       "'cuda'"
      ]
     },
     "execution_count": 3,
     "metadata": {},
     "output_type": "execute_result"
    }
   ],
   "source": [
    "# Setup device-agnostic code \n",
    "if torch.cuda.is_available():\n",
    "    device = \"cuda\" # NVIDIA GPU\n",
    "elif torch.backends.mps.is_available():\n",
    "    device = \"mps\" # Apple GPU\n",
    "else:\n",
    "    device = \"cpu\" # CPU\n",
    "\n",
    "device"
   ]
  },
  {
   "cell_type": "markdown",
   "metadata": {},
   "source": [
    "## Data and datasets"
   ]
  },
  {
   "cell_type": "markdown",
   "metadata": {},
   "source": [
    "Prepare data setup:"
   ]
  },
  {
   "cell_type": "code",
   "execution_count": 4,
   "metadata": {},
   "outputs": [],
   "source": [
    "from lib.data_download import download_kaggle_dataset, train_test_split"
   ]
  },
  {
   "cell_type": "markdown",
   "metadata": {},
   "source": [
    "### Animals data"
   ]
  },
  {
   "cell_type": "code",
   "execution_count": 5,
   "metadata": {},
   "outputs": [],
   "source": [
    "# Download German traffic signs data\n",
    "#download_kaggle_dataset('alessiocorrado99/animals10')"
   ]
  },
  {
   "cell_type": "code",
   "execution_count": 6,
   "metadata": {},
   "outputs": [],
   "source": [
    "#train_test_split('data/animals_raw_halved_2', 'data/animals_halved_5_classes', split_ratio=0.8)"
   ]
  },
  {
   "cell_type": "code",
   "execution_count": 7,
   "metadata": {},
   "outputs": [],
   "source": [
    "from pathlib import Path\n",
    "\n",
    "data_path = Path(\"data/\")\n",
    "\n",
    "# Setup path\n",
    "#animals_path = data_path / \"animals\"\n",
    "animals_path = data_path / \"animals_halved_5_classes\""
   ]
  },
  {
   "cell_type": "code",
   "execution_count": 8,
   "metadata": {},
   "outputs": [],
   "source": [
    "# Setup training directory path\n",
    "animals_train_dir = animals_path / \"train\"\n",
    "\n",
    "# Setup testing directory path\n",
    "animals_test_dir = animals_path / \"test\""
   ]
  },
  {
   "cell_type": "code",
   "execution_count": 9,
   "metadata": {},
   "outputs": [
    {
     "name": "stdout",
     "output_type": "stream",
     "text": [
      "Training directory animals: data/animals_halved_5_classes/train\n",
      "Testing directory animals: data/animals_halved_5_classes/test\n"
     ]
    }
   ],
   "source": [
    "print(f\"Training directory animals: {animals_train_dir}\")\n",
    "print(f\"Testing directory animals: {animals_test_dir}\")"
   ]
  },
  {
   "cell_type": "markdown",
   "metadata": {},
   "source": [
    "## Data augmentation"
   ]
  },
  {
   "cell_type": "code",
   "execution_count": 13,
   "metadata": {},
   "outputs": [],
   "source": [
    "# Normalize for CIFAR-10\n",
    "normalize = transforms.Normalize((0.5, 0.5, 0.5), (0.5, 0.5, 0.5), inplace=True)\n",
    "resize = transforms.Resize((64, 64))\n",
    "\n",
    "# Auto augmentations\n",
    "std_tf = transforms.Compose([\n",
    "    resize,\n",
    "    transforms.ToTensor(),\n",
    "    normalize\n",
    "])\n",
    "\n",
    "tf_a1 = transforms.Compose([\n",
    "    resize,\n",
    "    transforms.AutoAugment(),\n",
    "    transforms.ToTensor(),\n",
    "    normalize\n",
    "])\n",
    "\n",
    "tf_a2 = transforms.Compose([\n",
    "    resize,\n",
    "    transforms.RandAugment(),\n",
    "    transforms.ToTensor(),\n",
    "    normalize\n",
    "])\n",
    "\n",
    "tf_a3 = transforms.Compose([\n",
    "    resize,\n",
    "    transforms.AugMix(),\n",
    "    transforms.ToTensor(),\n",
    "    normalize\n",
    "])\n",
    "\n",
    "tf_a4 = transforms.Compose([\n",
    "    resize,\n",
    "    transforms.TrivialAugmentWide(),\n",
    "    transforms.ToTensor(),\n",
    "    normalize\n",
    "])\n",
    "\n",
    "# Manual augmentations, inspired by https://www.sciencedirect.com/science/article/pii/S2772375523001089\n",
    "manual_tf = transforms.Compose([\n",
    "    resize,\n",
    "    transforms.RandomCrop(64, padding=4, padding_mode=\"reflect\"),\n",
    "    transforms.RandomHorizontalFlip(),\n",
    "    #transforms.GaussianBlur(3),\n",
    "    transforms.ToTensor(),\n",
    "    normalize\n",
    "])"
   ]
  },
  {
   "cell_type": "markdown",
   "metadata": {},
   "source": [
    "### Turn data into DataLoaders "
   ]
  },
  {
   "cell_type": "code",
   "execution_count": 14,
   "metadata": {},
   "outputs": [],
   "source": [
    "BATCH_SIZE = 32"
   ]
  },
  {
   "cell_type": "markdown",
   "metadata": {},
   "source": [
    "#### Animals dataloaders and class names"
   ]
  },
  {
   "cell_type": "code",
   "execution_count": 17,
   "metadata": {},
   "outputs": [],
   "source": [
    "# No data augmentation\n",
    "train_dataloader_animals, test_dataloader_animals, animals_class_names = data_setup.create_dataloaders(\n",
    "                                                                                          train_dir=animals_train_dir,\n",
    "                                                                                          test_dir=animals_test_dir,\n",
    "                                                                                          train_transform=std_tf,\n",
    "                                                                                          test_transform=std_tf,\n",
    "                                                                                          batch_size=BATCH_SIZE)\n",
    "\n",
    "# AutoAugment\n",
    "train_dataloader_animals_AutoAugment, test_dataloader_animals_AutoAugment, animals_class_names = data_setup.create_dataloaders(\n",
    "                                                                                          train_dir=animals_train_dir,\n",
    "                                                                                          test_dir=animals_test_dir,\n",
    "                                                                                          train_transform=tf_a1,\n",
    "                                                                                          test_transform=std_tf,\n",
    "                                                                                          batch_size=BATCH_SIZE)\n",
    "\n",
    "# RandAugment\n",
    "train_dataloader_animals_RandAugment, test_dataloader_animals_RandAugment, animals_class_names = data_setup.create_dataloaders(\n",
    "                                                                                          train_dir=animals_train_dir,\n",
    "                                                                                          test_dir=animals_test_dir,\n",
    "                                                                                          train_transform=tf_a2,\n",
    "                                                                                          test_transform=std_tf,\n",
    "                                                                                          batch_size=BATCH_SIZE)\n",
    "\n",
    "# AugMix\n",
    "train_dataloader_animals_AugMix, test_dataloader_animals_AugMix, animals_class_names = data_setup.create_dataloaders(\n",
    "                                                                                          train_dir=animals_train_dir,\n",
    "                                                                                          test_dir=animals_test_dir,\n",
    "                                                                                          train_transform=tf_a3,\n",
    "                                                                                          test_transform=std_tf,\n",
    "                                                                                          batch_size=BATCH_SIZE)\n",
    "\n",
    "# TrivialAugmentWide\n",
    "train_dataloader_animals_TrivialAugmentWide, test_dataloader_animals_TrivialAugmentWide, animals_class_names = data_setup.create_dataloaders(\n",
    "                                                                                          train_dir=animals_train_dir,\n",
    "                                                                                          test_dir=animals_test_dir,\n",
    "                                                                                          train_transform=tf_a4,\n",
    "                                                                                          test_transform=std_tf,\n",
    "                                                                                          batch_size=BATCH_SIZE)\n",
    "\n",
    "# Manual data augmentation\n",
    "train_dataloader_animals_ManualAugment, test_dataloader_animals_ManualAugment, animals_class_names = data_setup.create_dataloaders(\n",
    "                                                                                          train_dir=animals_train_dir,\n",
    "                                                                                          test_dir=animals_test_dir,\n",
    "                                                                                          train_transform=manual_tf,\n",
    "                                                                                          test_transform=std_tf,\n",
    "                                                                                          batch_size=BATCH_SIZE)"
   ]
  },
  {
   "cell_type": "markdown",
   "metadata": {},
   "source": [
    "### View dataloader images"
   ]
  },
  {
   "cell_type": "code",
   "execution_count": 18,
   "metadata": {},
   "outputs": [],
   "source": [
    "# Visualize different samples from both dataloaders (aug and no aug)\n",
    "def view_dataloader_images(dataloader, class_names, n=10):\n",
    "    if n > 10:\n",
    "        print(f\"Having n higher than 10 will create messy plots, lowering to 10.\")\n",
    "        n = 10\n",
    "    imgs, labels = next(iter(dataloader))\n",
    "    plt.figure(figsize=(16, 8))\n",
    "    for i in range(n):\n",
    "        # Min max scale the image for display purposes\n",
    "        targ_image = imgs[i]\n",
    "        sample_min, sample_max = targ_image.min(), targ_image.max()\n",
    "        sample_scaled = (targ_image - sample_min)/(sample_max - sample_min)\n",
    "\n",
    "        # Plot images with appropriate axes information\n",
    "        plt.subplot(1, 10, i+1)\n",
    "        plt.imshow(sample_scaled.permute(1, 2, 0)) # resize for Matplotlib requirements\n",
    "        plt.title(class_names[labels[i]])\n",
    "        plt.axis(False)"
   ]
  },
  {
   "cell_type": "code",
   "execution_count": 19,
   "metadata": {},
   "outputs": [],
   "source": [
    "# Visualize different samples from both dataloaders (aug and no aug)\n",
    "def view_dataloader_images(dataloader, class_names, n=10):\n",
    "    if n > 10:\n",
    "        print(f\"Having n higher than 10 will create messy plots, lowering to 10.\")\n",
    "        n = 10\n",
    "\n",
    "    unique_classes = set()\n",
    "    imgs, labels = next(iter(dataloader))\n",
    "    plt.figure(figsize=(16, 8))\n",
    "    count = 0\n",
    "\n",
    "    for i in range(len(labels)):\n",
    "        if count >= n:\n",
    "            break\n",
    "\n",
    "        class_label = class_names[labels[i]]\n",
    "\n",
    "        # Check if this class has been displayed already\n",
    "        if class_label not in unique_classes:\n",
    "            unique_classes.add(class_label)\n",
    "            count += 1\n",
    "\n",
    "            # Min max scale the image for display purposes\n",
    "            targ_image = imgs[i]\n",
    "            sample_min, sample_max = targ_image.min(), targ_image.max()\n",
    "            sample_scaled = (targ_image - sample_min) / (sample_max - sample_min)\n",
    "\n",
    "            # Plot images with appropriate axes information\n",
    "            plt.subplot(1, n, count)\n",
    "            plt.imshow(sample_scaled.permute(1, 2, 0))  # resize for Matplotlib requirements\n",
    "            plt.title(class_label)\n",
    "            plt.axis(False)\n",
    "\n",
    "    plt.show()"
   ]
  },
  {
   "cell_type": "code",
   "execution_count": 20,
   "metadata": {},
   "outputs": [
    {
     "data": {
      "image/png": "[encoded data removed]",
      "text/plain": [
       "<Figure size 1600x800 with 5 Axes>"
      ]
     },
     "metadata": {},
     "output_type": "display_data"
    }
   ],
   "source": [
    "# Samples with data augmentation\n",
    "view_dataloader_images(train_dataloader_animals,\n",
    "                       animals_class_names,\n",
    "                       n=5)"
   ]
  },
  {
   "cell_type": "markdown",
   "metadata": {},
   "source": [
    "## Create models and setup experiments"
   ]
  },
  {
   "cell_type": "code",
   "execution_count": 21,
   "metadata": {},
   "outputs": [],
   "source": [
    "from torchinfo import summary"
   ]
  },
  {
   "cell_type": "code",
   "execution_count": 22,
   "metadata": {},
   "outputs": [],
   "source": [
    "# Create epoch list\n",
    "num_epochs = [30]\n",
    "\n",
    "# Set learning rate\n",
    "lr = 0.001"
   ]
  },
  {
   "cell_type": "markdown",
   "metadata": {},
   "source": [
    "### Animals model and experiments"
   ]
  },
  {
   "cell_type": "code",
   "execution_count": 31,
   "metadata": {},
   "outputs": [
    {
     "data": {
      "text/plain": [
       "========================================================================================================================\n",
       "Layer (type (var_name))                  Input Shape          Output Shape         Param #              Trainable\n",
       "========================================================================================================================\n",
       "AJ_CNN (AJ_CNN)                          [1, 3, 64, 64]       [1, 5]               --                   True\n",
       "├─Sequential (conv_block_1)              [1, 3, 64, 64]       [1, 12, 32, 32]      --                   True\n",
       "│    └─Conv2d (0)                        [1, 3, 64, 64]       [1, 12, 64, 64]      324                  True\n",
       "│    └─BatchNorm2d (1)                   [1, 12, 64, 64]      [1, 12, 64, 64]      24                   True\n",
       "│    └─ReLU (2)                          [1, 12, 64, 64]      [1, 12, 64, 64]      --                   --\n",
       "│    └─MaxPool2d (3)                     [1, 12, 64, 64]      [1, 12, 32, 32]      --                   --\n",
       "├─DropBlock2D (dropblock)                [1, 12, 32, 32]      [1, 12, 32, 32]      --                   --\n",
       "├─Sequential (conv_block_2)              [1, 12, 32, 32]      [1, 24, 16, 16]      --                   True\n",
       "│    └─Conv2d (0)                        [1, 12, 32, 32]      [1, 24, 32, 32]      2,592                True\n",
       "│    └─BatchNorm2d (1)                   [1, 24, 32, 32]      [1, 24, 32, 32]      48                   True\n",
       "│    └─ReLU (2)                          [1, 24, 32, 32]      [1, 24, 32, 32]      --                   --\n",
       "│    └─MaxPool2d (3)                     [1, 24, 32, 32]      [1, 24, 16, 16]      --                   --\n",
       "├─Sequential (conv_block_3)              [1, 24, 16, 16]      [1, 24, 7, 7]        --                   True\n",
       "│    └─Conv2d (0)                        [1, 24, 16, 16]      [1, 24, 14, 14]      5,184                True\n",
       "│    └─BatchNorm2d (1)                   [1, 24, 14, 14]      [1, 24, 14, 14]      48                   True\n",
       "│    └─ReLU (2)                          [1, 24, 14, 14]      [1, 24, 14, 14]      --                   --\n",
       "│    └─MaxPool2d (3)                     [1, 24, 14, 14]      [1, 24, 7, 7]        --                   --\n",
       "├─Sequential (classifier)                [1, 24, 7, 7]        [1, 5]               --                   True\n",
       "│    └─Flatten (0)                       [1, 24, 7, 7]        [1, 1176]            --                   --\n",
       "│    └─Dropout (1)                       [1, 1176]            [1, 1176]            --                   --\n",
       "│    └─Linear (2)                        [1, 1176]            [1, 5]               5,885                True\n",
       "========================================================================================================================\n",
       "Total params: 14,105\n",
       "Trainable params: 14,105\n",
       "Non-trainable params: 0\n",
       "Total mult-adds (Units.MEGABYTES): 5.00\n",
       "========================================================================================================================\n",
       "Input size (MB): 0.05\n",
       "Forward/backward pass size (MB): 1.25\n",
       "Params size (MB): 0.06\n",
       "Estimated Total Size (MB): 1.36\n",
       "========================================================================================================================"
      ]
     },
     "execution_count": 31,
     "metadata": {},
     "output_type": "execute_result"
    }
   ],
   "source": [
    "from scripts import model\n",
    "\n",
    "num_epochs = [50]\n",
    "\n",
    "# General parameters\n",
    "inp = 3\n",
    "oup = len(animals_class_names)\n",
    "#dropout = 0.3\n",
    "#dropblock = 0.3\n",
    "\n",
    "# Stock TinyVGG model\n",
    "#model_animals = model.TinyVGG(input_shape=inp, output_shape=oup)\n",
    "#model_animals_tvgg = model.TinyVGG(input_shape=inp, output_shape=oup)\n",
    "\n",
    "# Slightly modified TinyVGG\n",
    "\n",
    "# Stock AJ_CNN\n",
    "model_animals = model.AJ_CNN(input_shape=3, output_shape=oup, hidden_units=12, dropout=0.3)\n",
    "\n",
    "# Grid search, no aug\n",
    "#model_animals = model.AJ_CNN(input_shape=3, output_shape=oup, hidden_units=12, dropout=0.4)\n",
    "\n",
    "# Grid search, with aug\n",
    "#model_animals = model.AJ_CNN(input_shape=3, output_shape=oup, hidden_units=12, dropout=0.4)\n",
    "\n",
    "# Random search, no aug\n",
    "#model_animals = model.AJ_CNN(input_shape=3, output_shape=oup, hidden_units=12, dropout=0.5)\n",
    "\n",
    "# Random search, with aug\n",
    "#model_animals = model.AJ_CNN(input_shape=3, output_shape=oup, hidden_units=12, dropout=0.1)\n",
    "\n",
    "summary(model=model_animals,\n",
    "        input_size=(1, 3, 64, 64),\n",
    "        col_names=[\"input_size\", \"output_size\", \"num_params\", \"trainable\"],\n",
    "        col_width=20,\n",
    "        row_settings=[\"var_names\"])"
   ]
  },
  {
   "cell_type": "code",
   "execution_count": 32,
   "metadata": {},
   "outputs": [],
   "source": [
    "# Create dataloaders dictionary for various dataloaders\n",
    "train_dataloaders_animals = {\n",
    "    #\"no_aug\": train_dataloader_animals,\n",
    "    #\"AutoAugment\": train_dataloader_animals_AutoAugment,\n",
    "    #\"RandAugment\": train_dataloader_animals_RandAugment,\n",
    "    #\"AugMix\": train_dataloader_animals_AugMix,\n",
    "    #\"TrivialAugmentWide\": train_dataloader_animals_TrivialAugmentWide,\n",
    "    \"ManualAugment\": train_dataloader_animals_ManualAugment\n",
    "                     }"
   ]
  },
  {
   "cell_type": "markdown",
   "metadata": {},
   "source": [
    "### Confusion matrix, worst classes"
   ]
  },
  {
   "cell_type": "code",
   "execution_count": 33,
   "metadata": {},
   "outputs": [],
   "source": [
    "%%script false --no-raise-error\n",
    "\n",
    "from tqdm.auto import tqdm\n",
    "\n",
    "# Make predictions on the entire test dataset\n",
    "test_preds = []\n",
    "model_animals.eval()\n",
    "with torch.inference_mode():\n",
    "  # Loop through the batches in the test dataloader\n",
    "  for X, y in tqdm(test_dataloader_animals):\n",
    "    X, y = X.to(device), y.to(device)\n",
    "    # Pass the data through the model\n",
    "    test_logits = model_animals(X)\n",
    "\n",
    "    # Convert the pred logits to pred probs\n",
    "    pred_probs = torch.softmax(test_logits, dim=1)\n",
    "\n",
    "    # Convert the pred probs into pred labels\n",
    "    pred_labels = torch.argmax(pred_probs, dim=1)\n",
    "\n",
    "    # Add the pred labels to test preds list\n",
    "    test_preds.append(pred_labels)\n",
    "\n",
    "# Concatenate the test preds and put them on the CPU\n",
    "test_preds = torch.cat(test_preds).cpu()\n",
    "test_preds\n",
    "# Get the truth labels for test dataset\n",
    "test_truth = torch.cat([y for X, y in test_dataloader_animals])\n",
    "test_truth"
   ]
  },
  {
   "cell_type": "code",
   "execution_count": 34,
   "metadata": {},
   "outputs": [],
   "source": [
    "%%script false --no-raise-error\n",
    "\n",
    "from torchmetrics import ConfusionMatrix\n",
    "from mlxtend.plotting import plot_confusion_matrix\n",
    "import numpy\n",
    "\n",
    "# Assuming you have the number of classes stored in num_classes\n",
    "num_classes = len(animals_class_names)\n",
    "\n",
    "# Setup confusion matrix instance for multiclass classification\n",
    "confmat = ConfusionMatrix(num_classes=num_classes, task='multiclass')\n",
    "confmat_tensor = confmat(preds=test_preds, target=test_truth)\n",
    "\n",
    "# Plot the confusion matrix\n",
    "fig, ax = plot_confusion_matrix(\n",
    "    conf_mat=confmat_tensor.numpy(),\n",
    "    class_names=animals_class_names,\n",
    "    figsize=(10, 7)\n",
    ")"
   ]
  },
  {
   "cell_type": "code",
   "execution_count": 35,
   "metadata": {},
   "outputs": [],
   "source": [
    "%%script false --no-raise-error\n",
    "\n",
    "# Calculate the sum of true instances for each class\n",
    "true_instances_per_class = confmat_tensor.sum(dim=1)\n",
    "\n",
    "# Calculate the sum of misclassifications for each class\n",
    "misclassifications_per_class = true_instances_per_class - confmat_tensor.diag()\n",
    "\n",
    "# Calculate misclassification rates for each class\n",
    "misclassification_rates = misclassifications_per_class / true_instances_per_class\n",
    "\n",
    "# Find the index of the worst-performing classes\n",
    "worst_classes_indices = misclassification_rates.argsort(descending=True)\n",
    "\n",
    "# Get the class names corresponding to the worst classes\n",
    "worst_classes_names = [animals_class_names[i] for i in worst_classes_indices]\n",
    "\n",
    "# Print or use the worst classes\n",
    "print(\"Worst-performing classes:\")\n",
    "for name in worst_classes_names:\n",
    "    print(name)"
   ]
  },
  {
   "cell_type": "markdown",
   "metadata": {},
   "source": [
    "### Dataloader testing and training"
   ]
  },
  {
   "cell_type": "code",
   "execution_count": 36,
   "metadata": {},
   "outputs": [],
   "source": [
    "import numpy as np\n",
    "import os\n",
    "\n",
    "def seed_everything(seed=42):\n",
    "    random.seed(seed)\n",
    "    os.environ['PYTHONHASHSEED'] = str(seed)\n",
    "    np.random.seed(seed)\n",
    "    torch.manual_seed(seed)\n",
    "    torch.backends.cudnn.deterministic = True\n",
    "    torch.backends.cudnn.benchmark = False"
   ]
  },
  {
   "cell_type": "code",
   "execution_count": 37,
   "metadata": {},
   "outputs": [
    {
     "name": "stdout",
     "output_type": "stream",
     "text": [
      "[INFO] Experiment number: 1\n",
      "[INFO] Model: AJ_CNN\n",
      "[INFO] DataLoader: ManualAugment\n",
      "[INFO] Number of epochs: 50\n",
      "[INFO] Created SummaryWriter, saving to: runs/2024-01-18/ManualAugment/AJ_CNN/50_epochs...\n"
     ]
    },
    {
     "data": {
      "application/vnd.jupyter.widget-view+json": {
       "model_id": "e7422e25ca2c4895abcf20ee3bd5cc3b",
       "version_major": 2,
       "version_minor": 0
      },
      "text/plain": [
       "  0%|          | 0/50 [00:00<?, ?it/s]"
      ]
     },
     "metadata": {},
     "output_type": "display_data"
    },
    {
     "name": "stdout",
     "output_type": "stream",
     "text": [
      "Epoch: 1 | train_loss: 1.3735 | train_acc: 0.4758 | test_loss: 1.1479 | test_acc: 0.5604 | lr: 0.00100000\n",
      "Epoch: 2 | train_loss: 1.0908 | train_acc: 0.5901 | test_loss: 0.9750 | test_acc: 0.6676 | lr: 0.00100000\n",
      "Epoch: 3 | train_loss: 0.9557 | train_acc: 0.6459 | test_loss: 0.9614 | test_acc: 0.6394 | lr: 0.00100000\n",
      "Epoch: 4 | train_loss: 0.8912 | train_acc: 0.6737 | test_loss: 0.8752 | test_acc: 0.6910 | lr: 0.00100000\n",
      "Epoch: 5 | train_loss: 0.8459 | train_acc: 0.6914 | test_loss: 0.9223 | test_acc: 0.6621 | lr: 0.00100000\n",
      "Epoch: 6 | train_loss: 0.8082 | train_acc: 0.7057 | test_loss: 1.1384 | test_acc: 0.6025 | lr: 0.00100000\n",
      "Epoch: 7 | train_loss: 0.7830 | train_acc: 0.7131 | test_loss: 0.8803 | test_acc: 0.6996 | lr: 0.00100000\n",
      "Epoch: 8 | train_loss: 0.7398 | train_acc: 0.7328 | test_loss: 0.8367 | test_acc: 0.6887 | lr: 0.00100000\n",
      "Epoch: 9 | train_loss: 0.7291 | train_acc: 0.7423 | test_loss: 0.8143 | test_acc: 0.7007 | lr: 0.00100000\n",
      "Epoch: 10 | train_loss: 0.7255 | train_acc: 0.7430 | test_loss: 0.8826 | test_acc: 0.6887 | lr: 0.00100000\n",
      "Epoch: 11 | train_loss: 0.6930 | train_acc: 0.7550 | test_loss: 0.7211 | test_acc: 0.7485 | lr: 0.00100000\n",
      "Epoch: 12 | train_loss: 0.6823 | train_acc: 0.7478 | test_loss: 0.9762 | test_acc: 0.6805 | lr: 0.00100000\n",
      "Epoch: 13 | train_loss: 0.6718 | train_acc: 0.7626 | test_loss: 0.7244 | test_acc: 0.7345 | lr: 0.00100000\n",
      "Epoch: 14 | train_loss: 0.6483 | train_acc: 0.7709 | test_loss: 0.6776 | test_acc: 0.7611 | lr: 0.00100000\n",
      "Epoch: 15 | train_loss: 0.6443 | train_acc: 0.7699 | test_loss: 0.8916 | test_acc: 0.6675 | lr: 0.00100000\n",
      "Epoch: 16 | train_loss: 0.6355 | train_acc: 0.7720 | test_loss: 0.6479 | test_acc: 0.7647 | lr: 0.00100000\n",
      "Epoch: 17 | train_loss: 0.6319 | train_acc: 0.7713 | test_loss: 0.5801 | test_acc: 0.7952 | lr: 0.00100000\n",
      "Epoch: 18 | train_loss: 0.6250 | train_acc: 0.7759 | test_loss: 0.6044 | test_acc: 0.7732 | lr: 0.00100000\n",
      "Epoch: 19 | train_loss: 0.6071 | train_acc: 0.7902 | test_loss: 0.9160 | test_acc: 0.7073 | lr: 0.00100000\n",
      "Epoch: 20 | train_loss: 0.6027 | train_acc: 0.7839 | test_loss: 0.7258 | test_acc: 0.7290 | lr: 0.00100000\n",
      "Epoch: 21 | train_loss: 0.6110 | train_acc: 0.7807 | test_loss: 0.8004 | test_acc: 0.7018 | lr: 0.00100000\n",
      "Epoch: 22 | train_loss: 0.5829 | train_acc: 0.7858 | test_loss: 0.6921 | test_acc: 0.7554 | lr: 0.00100000\n",
      "Epoch: 23 | train_loss: 0.5851 | train_acc: 0.7903 | test_loss: 0.9357 | test_acc: 0.6746 | lr: 0.00100000\n",
      "Epoch: 24 | train_loss: 0.5861 | train_acc: 0.7904 | test_loss: 0.9309 | test_acc: 0.6530 | lr: 0.00100000\n",
      "Epoch: 25 | train_loss: 0.5780 | train_acc: 0.7945 | test_loss: 0.6197 | test_acc: 0.7586 | lr: 0.00100000\n",
      "Epoch: 26 | train_loss: 0.5644 | train_acc: 0.8001 | test_loss: 0.7535 | test_acc: 0.7349 | lr: 0.00100000\n",
      "Epoch: 27 | train_loss: 0.5691 | train_acc: 0.7947 | test_loss: 0.5812 | test_acc: 0.7907 | lr: 0.00100000\n",
      "Epoch: 28 | train_loss: 0.5633 | train_acc: 0.8038 | test_loss: 0.6287 | test_acc: 0.7837 | lr: 0.00100000\n",
      "Epoch: 29 | train_loss: 0.5380 | train_acc: 0.8079 | test_loss: 0.5905 | test_acc: 0.7896 | lr: 0.00100000\n",
      "Epoch: 30 | train_loss: 0.5536 | train_acc: 0.8021 | test_loss: 0.6826 | test_acc: 0.7691 | lr: 0.00100000\n",
      "Epoch: 31 | train_loss: 0.5504 | train_acc: 0.8039 | test_loss: 0.5408 | test_acc: 0.8160 | lr: 0.00100000\n",
      "Epoch: 32 | train_loss: 0.5389 | train_acc: 0.8095 | test_loss: 0.6735 | test_acc: 0.7714 | lr: 0.00100000\n",
      "Epoch: 33 | train_loss: 0.5470 | train_acc: 0.7993 | test_loss: 0.6179 | test_acc: 0.7840 | lr: 0.00100000\n",
      "Epoch: 34 | train_loss: 0.5304 | train_acc: 0.8097 | test_loss: 0.6415 | test_acc: 0.7871 | lr: 0.00100000\n",
      "Epoch: 35 | train_loss: 0.5284 | train_acc: 0.8124 | test_loss: 0.6291 | test_acc: 0.7855 | lr: 0.00100000\n",
      "Epoch: 36 | train_loss: 0.5387 | train_acc: 0.8099 | test_loss: 0.6290 | test_acc: 0.7694 | lr: 0.00100000\n",
      "Epoch: 37 | train_loss: 0.5141 | train_acc: 0.8113 | test_loss: 0.6618 | test_acc: 0.7592 | lr: 0.00100000\n",
      "Epoch: 38 | train_loss: 0.5162 | train_acc: 0.8171 | test_loss: 0.8074 | test_acc: 0.7344 | lr: 0.00100000\n",
      "Epoch: 39 | train_loss: 0.5108 | train_acc: 0.8188 | test_loss: 0.5713 | test_acc: 0.8007 | lr: 0.00100000\n",
      "Epoch: 40 | train_loss: 0.5096 | train_acc: 0.8181 | test_loss: 0.6209 | test_acc: 0.7784 | lr: 0.00100000\n",
      "Epoch: 41 | train_loss: 0.5191 | train_acc: 0.8158 | test_loss: 0.5170 | test_acc: 0.8092 | lr: 0.00100000\n",
      "Epoch: 42 | train_loss: 0.5089 | train_acc: 0.8196 | test_loss: 0.5596 | test_acc: 0.8182 | lr: 0.00100000\n",
      "Epoch: 43 | train_loss: 0.5038 | train_acc: 0.8211 | test_loss: 0.5904 | test_acc: 0.7969 | lr: 0.00100000\n",
      "Epoch: 44 | train_loss: 0.5078 | train_acc: 0.8209 | test_loss: 0.5158 | test_acc: 0.8220 | lr: 0.00100000\n",
      "Epoch: 45 | train_loss: 0.5000 | train_acc: 0.8204 | test_loss: 0.5146 | test_acc: 0.8242 | lr: 0.00100000\n",
      "Epoch: 46 | train_loss: 0.4931 | train_acc: 0.8244 | test_loss: 0.5023 | test_acc: 0.8292 | lr: 0.00100000\n",
      "Epoch: 47 | train_loss: 0.4887 | train_acc: 0.8240 | test_loss: 0.5655 | test_acc: 0.8054 | lr: 0.00100000\n",
      "Epoch: 48 | train_loss: 0.4785 | train_acc: 0.8284 | test_loss: 0.5581 | test_acc: 0.7995 | lr: 0.00100000\n",
      "Epoch: 49 | train_loss: 0.4929 | train_acc: 0.8238 | test_loss: 0.7629 | test_acc: 0.7521 | lr: 0.00100000\n",
      "Epoch: 50 | train_loss: 0.4929 | train_acc: 0.8253 | test_loss: 0.5824 | test_acc: 0.8102 | lr: 0.00100000\n",
      "[INFO] Saving model to: models/0001_AJ_CNN_ManualAugment_50_epochs_0.8102249747219413_test_acc.pth\n",
      "--------------------------------------------------\n",
      "\n",
      "CPU times: user 53.5 s, sys: 26.7 s, total: 1min 20s\n",
      "Wall time: 2min 6s\n"
     ]
    }
   ],
   "source": [
    "%%time\n",
    "#%%script false --no-raise-error\n",
    "\n",
    "from scripts.utils import save_model\n",
    "from scripts.engine import train\n",
    "from lib.experiment_tracking import create_writer\n",
    "\n",
    "# 1. Set the random seeds\n",
    "#hf.set_seeds(seed=42)\n",
    "#seed_everything(seed=42)\n",
    "#seed_everything(seed=66)\n",
    "#seed_everything(seed=13)\n",
    "#seed_everything(seed=79)\n",
    "#seed_everything(seed=20)\n",
    "\n",
    "#seeds = [20]\n",
    "#seeds = [79]\n",
    "#seeds = [13]\n",
    "#seeds = [66]\n",
    "seeds = [42]\n",
    "\n",
    "# 2. Keep track of experiment numbers\n",
    "experiment_number = 0\n",
    "\n",
    "# Loop through seeds\n",
    "for seed in seeds:\n",
    "    seed_everything(seed=seed)\n",
    "\n",
    "    # 3. Loop through each DataLoader\n",
    "    for dataloader_name, train_dataloader_animals in train_dataloaders_animals.items():\n",
    "\n",
    "        # 4. Loop through each number of epochs\n",
    "        for epochs in num_epochs: \n",
    "        \n",
    "            model_name = model_animals.__class__.__name__\n",
    "\n",
    "            # 6. Create information print outs\n",
    "            experiment_number += 1\n",
    "            print(f\"[INFO] Experiment number: {experiment_number}\")\n",
    "            print(f\"[INFO] Model: {model_name}\")\n",
    "            print(f\"[INFO] DataLoader: {dataloader_name}\")\n",
    "            print(f\"[INFO] Number of epochs: {epochs}\")  \n",
    "\n",
    "            # 7. Select the model\n",
    "            model = model_animals\n",
    "\n",
    "            # 8. Create a new loss and optimizer for every model\n",
    "            loss_fn = nn.CrossEntropyLoss()\n",
    "            #optimizer = torch.optim.Adam(params=model.parameters(), lr=0.001)\n",
    "            #optimizer = torch.optim.SGD(params=model.parameters(), lr=4e-05)\n",
    "            #optimizer = torch.optim.SGD(model.parameters(), lr=lr)\n",
    "            \n",
    "            # best results optimizer\n",
    "            #optimizer = torch.optim.SGD(model.parameters(), lr=0.001)\n",
    "            optimizer = torch.optim.RMSprop(model.parameters(), lr=0.001)\n",
    "            #optimizer = torch.optim.Adam(params=model.parameters(), lr=0.00034)\n",
    "            #optimizer = torch.optim.SGD(model.parameters(), lr=0.00256)\n",
    "\n",
    "            # 9. Train target model with target dataloaders and track experiments\n",
    "            results = train(model=model,\n",
    "                train_dataloader=train_dataloader_animals,\n",
    "                dataloader_name=dataloader_name,\n",
    "                test_dataloader=test_dataloader_animals,\n",
    "                optimizer=optimizer,\n",
    "                loss_fn=loss_fn,\n",
    "                epochs=epochs,\n",
    "                device=device,\n",
    "                seed=seed,\n",
    "                writer=create_writer(experiment_name=dataloader_name,\n",
    "                                        model_name=model_name,\n",
    "                                        extra=f\"{epochs}_epochs\"))\n",
    "            \n",
    "            test_acc = results.get(\"test_acc\")[-1]\n",
    "            \n",
    "            # 10. Save the model to file so we can get back the best model\n",
    "            save_filepath = f\"{experiment_number:04d}_{model_name}_{dataloader_name}_{epochs}_epochs_{test_acc}_test_acc.pth\"\n",
    "            save_model(model=model,\n",
    "                        target_dir=\"models\",\n",
    "                        model_name=save_filepath)\n",
    "            print(\"-\"*50 + \"\\n\")"
   ]
  },
  {
   "cell_type": "code",
   "execution_count": null,
   "metadata": {},
   "outputs": [],
   "source": [
    "%load_ext tensorboard\n",
    "%tensorboard --logdir runs"
   ]
  }
 ],
 "metadata": {
  "kernelspec": {
   "display_name": "python-dtu",
   "language": "python",
   "name": "python3"
  },
  "language_info": {
   "codemirror_mode": {
    "name": "ipython",
    "version": 3
   },
   "file_extension": ".py",
   "mimetype": "text/x-python",
   "name": "python",
   "nbconvert_exporter": "python",
   "pygments_lexer": "ipython3",
   "version": "3.11.0"
  }
 },
 "nbformat": 4,
 "nbformat_minor": 2
}
