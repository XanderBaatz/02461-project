{
 "cells": [
  {
   "cell_type": "markdown",
   "metadata": {},
   "source": [
    "# **TinyVGG, BNN and Data Augmentation project**"
   ]
  },
  {
   "cell_type": "markdown",
   "metadata": {},
   "source": [
    "## Resources"
   ]
  },
  {
   "cell_type": "markdown",
   "metadata": {},
   "source": [
    "### Libraries"
   ]
  },
  {
   "cell_type": "code",
   "execution_count": 1,
   "metadata": {},
   "outputs": [],
   "source": [
    "# Import torch\n",
    "import torch\n",
    "from torch import nn\n",
    "\n",
    "# Import TorchVision domain library\n",
    "import torchvision\n",
    "from torchvision import transforms\n",
    "\n",
    "# Impor torchinfo\n",
    "from torchinfo import summary\n",
    "\n",
    "# Import matplot\n",
    "import matplotlib.pyplot as plt"
   ]
  },
  {
   "cell_type": "markdown",
   "metadata": {},
   "source": [
    "Local scripts etc.:"
   ]
  },
  {
   "cell_type": "code",
   "execution_count": 2,
   "metadata": {},
   "outputs": [],
   "source": [
    "# Import from script folder\n",
    "from scripts import engine, utils, data_setup\n",
    "from scripts.engine import train\n",
    "\n",
    "# Import from helper functions\n",
    "import helper_functions as hf"
   ]
  },
  {
   "cell_type": "markdown",
   "metadata": {},
   "source": [
    "### Device-agnostic code"
   ]
  },
  {
   "cell_type": "code",
   "execution_count": 3,
   "metadata": {},
   "outputs": [
    {
     "data": {
      "text/plain": [
       "'cuda'"
      ]
     },
     "execution_count": 3,
     "metadata": {},
     "output_type": "execute_result"
    }
   ],
   "source": [
    "# Setup device-agnostic code \n",
    "if torch.cuda.is_available():\n",
    "    device = \"cuda\" # NVIDIA GPU\n",
    "elif torch.backends.mps.is_available():\n",
    "    device = \"mps\" # Apple GPU\n",
    "else:\n",
    "    device = \"cpu\" # CPU\n",
    "\n",
    "device"
   ]
  },
  {
   "cell_type": "markdown",
   "metadata": {},
   "source": [
    "## Data and datasets"
   ]
  },
  {
   "cell_type": "markdown",
   "metadata": {},
   "source": [
    "Prepare data setup:"
   ]
  },
  {
   "cell_type": "code",
   "execution_count": 4,
   "metadata": {},
   "outputs": [],
   "source": [
    "from lib.data_download import download_kaggle_dataset, train_test_split"
   ]
  },
  {
   "cell_type": "markdown",
   "metadata": {},
   "source": [
    "### Dog breeds data"
   ]
  },
  {
   "cell_type": "code",
   "execution_count": 5,
   "metadata": {},
   "outputs": [],
   "source": [
    "# Download dog data\n",
    "#download_kaggle_dataset('s4lman/dog-breed-image-dataset-256x256')"
   ]
  },
  {
   "cell_type": "code",
   "execution_count": 6,
   "metadata": {},
   "outputs": [],
   "source": [
    "#train_test_split('data/dogs', 'data/dog_breeds', split_ratio=0.8)"
   ]
  },
  {
   "cell_type": "markdown",
   "metadata": {},
   "source": [
    "### CIFAR-10 data"
   ]
  },
  {
   "cell_type": "code",
   "execution_count": 7,
   "metadata": {},
   "outputs": [],
   "source": [
    "# Download CIFAR-10\n",
    "#download_kaggle_dataset('swaroopkml/cifar10-pngs-in-folders')"
   ]
  },
  {
   "cell_type": "markdown",
   "metadata": {},
   "source": [
    "### Setup paths"
   ]
  },
  {
   "cell_type": "code",
   "execution_count": 8,
   "metadata": {},
   "outputs": [],
   "source": [
    "from pathlib import Path\n",
    "\n",
    "data_path = Path(\"data/\")\n",
    "\n",
    "# Setup paths\n",
    "cifar_10_path = data_path / \"cifar10/cifar10/\"\n",
    "dog_path = data_path / \"dog_breeds/\""
   ]
  },
  {
   "cell_type": "code",
   "execution_count": 9,
   "metadata": {},
   "outputs": [],
   "source": [
    "# Setup training directory paths\n",
    "cifar_train_dir = cifar_10_path / \"train\"\n",
    "dog_train_dir = dog_path / \"train\"\n",
    "\n",
    "# Setup testing directory paths\n",
    "cifar_test_dir = cifar_10_path / \"test\"\n",
    "dog_test_dir = dog_path / \"test\""
   ]
  },
  {
   "cell_type": "code",
   "execution_count": 10,
   "metadata": {},
   "outputs": [],
   "source": [
    "# Check the directories\n",
    "#print(f\"Training directory cifar: {cifar_train_dir}\")\n",
    "#print(f\"Testing directory cifar: {cifar_test_dir}\")\n",
    "#print()\n",
    "#print(f\"Training directory dog: {dog_train_dir}\")\n",
    "#print(f\"Testing directory dog: {dog_test_dir}\")"
   ]
  },
  {
   "cell_type": "markdown",
   "metadata": {},
   "source": [
    "## Data augmentation"
   ]
  },
  {
   "cell_type": "code",
   "execution_count": 11,
   "metadata": {},
   "outputs": [],
   "source": [
    "# Normalize for CIFAR-10\n",
    "normalize = transforms.Normalize((0.5, 0.5, 0.5), (0.5, 0.5, 0.5))\n",
    "resize = transforms.Resize((64, 64))\n",
    "\n",
    "# Auto augmentations\n",
    "std_tf = transforms.Compose([\n",
    "    resize,\n",
    "    transforms.ToTensor(),\n",
    "    normalize\n",
    "])\n",
    "\n",
    "tf_a1 = transforms.Compose([\n",
    "    resize,\n",
    "    transforms.AutoAugment(),\n",
    "    transforms.ToTensor(),\n",
    "    normalize\n",
    "])\n",
    "\n",
    "tf_a2 = transforms.Compose([\n",
    "    resize,\n",
    "    transforms.RandAugment(),\n",
    "    transforms.ToTensor(),\n",
    "    normalize\n",
    "])\n",
    "\n",
    "tf_a3 = transforms.Compose([\n",
    "    resize,\n",
    "    transforms.AugMix(),\n",
    "    transforms.ToTensor(),\n",
    "    normalize\n",
    "])\n",
    "\n",
    "tf_a4 = transforms.Compose([\n",
    "    resize,\n",
    "    transforms.TrivialAugmentWide(),\n",
    "    transforms.ToTensor(),\n",
    "    normalize\n",
    "])\n",
    "\n",
    "# Manual augmentations, inspired by https://www.sciencedirect.com/science/article/pii/S2772375523001089\n",
    "# Set the values for augmentation\n",
    "rotation_range = 30\n",
    "width_shift_range = 0.2\n",
    "height_shift_range = 0.2\n",
    "zoom_range = 0.2\n",
    "vertical_flip = True\n",
    "horizontal_flip = True\n",
    "\n",
    "# Define the transformations\n",
    "manual_tf = transforms.Compose([\n",
    "    resize,\n",
    "    transforms.RandomRotation(degrees=rotation_range),\n",
    "    transforms.RandomAffine(degrees=0, translate=(width_shift_range, height_shift_range), scale=(1 - zoom_range, 1 + zoom_range)),\n",
    "    transforms.RandomVerticalFlip(p=0.5),\n",
    "    transforms.RandomHorizontalFlip(p=0.5),\n",
    "    transforms.ToTensor(),\n",
    "    normalize\n",
    "])\n",
    "\n",
    "# Assemble the transform variations into a list\n",
    "#transforms_list = [std_tf, tf_a1, tf_a2, tf_a3, tf_a4]"
   ]
  },
  {
   "cell_type": "markdown",
   "metadata": {},
   "source": [
    "### Turn data into DataLoaders "
   ]
  },
  {
   "cell_type": "code",
   "execution_count": 12,
   "metadata": {},
   "outputs": [],
   "source": [
    "BATCH_SIZE = 64"
   ]
  },
  {
   "cell_type": "markdown",
   "metadata": {},
   "source": [
    "#### CIFAR-10 dataloaders and class names"
   ]
  },
  {
   "cell_type": "code",
   "execution_count": 13,
   "metadata": {},
   "outputs": [],
   "source": [
    "# No data augmentation\n",
    "train_dataloader_cifar, test_dataloader_cifar, cifar_class_names = data_setup.create_dataloaders(\n",
    "                                                                                          train_dir=cifar_train_dir,\n",
    "                                                                                          test_dir=cifar_test_dir,\n",
    "                                                                                          train_transform=std_tf,\n",
    "                                                                                          test_transform=std_tf,\n",
    "                                                                                          batch_size=BATCH_SIZE)\n",
    "\n",
    "# AutoAugment\n",
    "train_dataloader_cifar_AutoAugment, test_dataloader_cifar_AutoAugment, cifar_class_names = data_setup.create_dataloaders(\n",
    "                                                                                          train_dir=cifar_train_dir,\n",
    "                                                                                          test_dir=cifar_test_dir,\n",
    "                                                                                          train_transform=tf_a1,\n",
    "                                                                                          test_transform=std_tf,\n",
    "                                                                                          batch_size=BATCH_SIZE)\n",
    "\n",
    "# RandAugment\n",
    "train_dataloader_cifar_RandAugment, test_dataloader_cifar_RandAugment, cifar_class_names = data_setup.create_dataloaders(\n",
    "                                                                                          train_dir=cifar_train_dir,\n",
    "                                                                                          test_dir=cifar_test_dir,\n",
    "                                                                                          train_transform=tf_a2,\n",
    "                                                                                          test_transform=std_tf,\n",
    "                                                                                          batch_size=BATCH_SIZE)\n",
    "\n",
    "# AugMix\n",
    "train_dataloader_cifar_AugMix, test_dataloader_cifar_AugMix, cifar_class_names = data_setup.create_dataloaders(\n",
    "                                                                                          train_dir=cifar_train_dir,\n",
    "                                                                                          test_dir=cifar_test_dir,\n",
    "                                                                                          train_transform=tf_a3,\n",
    "                                                                                          test_transform=std_tf,\n",
    "                                                                                          batch_size=BATCH_SIZE)\n",
    "\n",
    "# TrivialAugmentWide\n",
    "train_dataloader_cifar_TrivialAugmentWide, test_dataloader_cifar_TrivialAugmentWide, cifar_class_names = data_setup.create_dataloaders(\n",
    "                                                                                          train_dir=cifar_train_dir,\n",
    "                                                                                          test_dir=cifar_test_dir,\n",
    "                                                                                          train_transform=tf_a4,\n",
    "                                                                                          test_transform=std_tf,\n",
    "                                                                                          batch_size=BATCH_SIZE)\n",
    "\n",
    "# Manual data augmentation\n",
    "train_dataloader_cifar_ManualAugment, test_dataloader_cifar_ManualAugment, cifar_class_names = data_setup.create_dataloaders(\n",
    "                                                                                          train_dir=cifar_train_dir,\n",
    "                                                                                          test_dir=cifar_test_dir,\n",
    "                                                                                          train_transform=manual_tf,\n",
    "                                                                                          test_transform=std_tf,\n",
    "                                                                                          batch_size=BATCH_SIZE)"
   ]
  },
  {
   "cell_type": "code",
   "execution_count": 14,
   "metadata": {},
   "outputs": [
    {
     "name": "stdout",
     "output_type": "stream",
     "text": [
      "Number of classes: 10, class names: ['airplane', 'automobile', 'bird', 'cat', 'deer', 'dog', 'frog', 'horse', 'ship', 'truck']\n"
     ]
    }
   ],
   "source": [
    "print(f\"Number of classes: {len(cifar_class_names)}, class names: {cifar_class_names}\")"
   ]
  },
  {
   "cell_type": "markdown",
   "metadata": {},
   "source": [
    "#### Dog breeds dataloaders and class names"
   ]
  },
  {
   "cell_type": "code",
   "execution_count": 15,
   "metadata": {},
   "outputs": [],
   "source": [
    "# No data augmentation\n",
    "train_dataloader_dog, test_dataloader_dog, dog_class_names = data_setup.create_dataloaders(\n",
    "                                                                                          train_dir=dog_train_dir,\n",
    "                                                                                          test_dir=dog_test_dir,\n",
    "                                                                                          train_transform=std_tf,\n",
    "                                                                                          test_transform=std_tf,\n",
    "                                                                                          batch_size=BATCH_SIZE)\n",
    "\n",
    "# AutoAugment\n",
    "train_dataloader_dog_AutoAugment, test_dataloader_dog_AutoAugment, dog_class_names = data_setup.create_dataloaders(\n",
    "                                                                                          train_dir=dog_train_dir,\n",
    "                                                                                          test_dir=dog_test_dir,\n",
    "                                                                                          train_transform=tf_a1,\n",
    "                                                                                          test_transform=std_tf,\n",
    "                                                                                          batch_size=BATCH_SIZE)\n",
    "\n",
    "# RandAugment\n",
    "train_dataloader_dog_RandAugment, test_dataloader_dog_RandAugment, dog_class_names = data_setup.create_dataloaders(\n",
    "                                                                                          train_dir=dog_train_dir,\n",
    "                                                                                          test_dir=dog_test_dir,\n",
    "                                                                                          train_transform=tf_a2,\n",
    "                                                                                          test_transform=std_tf,\n",
    "                                                                                          batch_size=BATCH_SIZE)\n",
    "\n",
    "# AugMix\n",
    "train_dataloader_dog_AugMix, test_dataloader_dog_AugMix, dog_class_names = data_setup.create_dataloaders(\n",
    "                                                                                          train_dir=dog_train_dir,\n",
    "                                                                                          test_dir=dog_test_dir,\n",
    "                                                                                          train_transform=tf_a3,\n",
    "                                                                                          test_transform=std_tf,\n",
    "                                                                                          batch_size=BATCH_SIZE)\n",
    "\n",
    "# TrivialAugmentWide\n",
    "train_dataloader_dog_TrivialAugmentWide, test_dataloader_dog_TrivialAugmentWide, dog_class_names = data_setup.create_dataloaders(\n",
    "                                                                                          train_dir=dog_train_dir,\n",
    "                                                                                          test_dir=dog_test_dir,\n",
    "                                                                                          train_transform=tf_a4,\n",
    "                                                                                          test_transform=std_tf,\n",
    "                                                                                          batch_size=BATCH_SIZE)\n",
    "\n",
    "# Manual data augmentation\n",
    "train_dataloader_dog_ManualAugment, test_dataloader_dog_ManualAugment, dog_class_names = data_setup.create_dataloaders(\n",
    "                                                                                          train_dir=dog_train_dir,\n",
    "                                                                                          test_dir=dog_test_dir,\n",
    "                                                                                          train_transform=manual_tf,\n",
    "                                                                                          test_transform=std_tf,\n",
    "                                                                                          batch_size=BATCH_SIZE)"
   ]
  },
  {
   "cell_type": "code",
   "execution_count": 16,
   "metadata": {},
   "outputs": [
    {
     "name": "stdout",
     "output_type": "stream",
     "text": [
      "Number of classes: 3, class names: ['Bulldog', 'Chihuahua', 'GoldenRetreiver']\n"
     ]
    }
   ],
   "source": [
    "print(f\"Number of classes: {len(dog_class_names)}, class names: {dog_class_names}\")"
   ]
  },
  {
   "cell_type": "markdown",
   "metadata": {},
   "source": [
    "### View dataloader images"
   ]
  },
  {
   "cell_type": "code",
   "execution_count": 17,
   "metadata": {},
   "outputs": [],
   "source": [
    "# Visualize different samples from both dataloaders (aug and no aug)\n",
    "def view_dataloader_images(dataloader, class_names, n=10):\n",
    "    if n > 10:\n",
    "        print(f\"Having n higher than 10 will create messy plots, lowering to 10.\")\n",
    "        n = 10\n",
    "    imgs, labels = next(iter(dataloader))\n",
    "    plt.figure(figsize=(16, 8))\n",
    "    for i in range(n):\n",
    "        # Min max scale the image for display purposes\n",
    "        targ_image = imgs[i]\n",
    "        sample_min, sample_max = targ_image.min(), targ_image.max()\n",
    "        sample_scaled = (targ_image - sample_min)/(sample_max - sample_min)\n",
    "\n",
    "        # Plot images with appropriate axes information\n",
    "        plt.subplot(1, 10, i+1)\n",
    "        plt.imshow(sample_scaled.permute(1, 2, 0)) # resize for Matplotlib requirements\n",
    "        plt.title(class_names[labels[i]])\n",
    "        plt.axis(False)"
   ]
  },
  {
   "cell_type": "code",
   "execution_count": 18,
   "metadata": {},
   "outputs": [
    {
     "data": {
      "image/png": "[encoded data removed]",
      "text/plain": [
       "<Figure size 1600x800 with 6 Axes>"
      ]
     },
     "metadata": {},
     "output_type": "display_data"
    }
   ],
   "source": [
    "# Samples with data augmentation\n",
    "view_dataloader_images(train_dataloader_dog_ManualAugment,\n",
    "                       dog_class_names,\n",
    "                       n=6)"
   ]
  },
  {
   "cell_type": "markdown",
   "metadata": {},
   "source": [
    "## Create models and setup experiments"
   ]
  },
  {
   "cell_type": "code",
   "execution_count": 19,
   "metadata": {},
   "outputs": [],
   "source": [
    "from torchinfo import summary"
   ]
  },
  {
   "cell_type": "code",
   "execution_count": 20,
   "metadata": {},
   "outputs": [],
   "source": [
    "# Modify this for vanilla TinyVGG\n",
    "HIDDEN_UNITS = 10\n",
    "\n",
    "# Create epoch list\n",
    "num_epochs = [100]#[10, 20]\n",
    "\n",
    "# Set learning rate\n",
    "lr = 0.001"
   ]
  },
  {
   "cell_type": "markdown",
   "metadata": {},
   "source": [
    "### CIFAR-10 model and experiments"
   ]
  },
  {
   "cell_type": "code",
   "execution_count": 21,
   "metadata": {},
   "outputs": [
    {
     "data": {
      "text/plain": [
       "========================================================================================================================\n",
       "Layer (type (var_name))                  Input Shape          Output Shape         Param #              Trainable\n",
       "========================================================================================================================\n",
       "TinyVGG (TinyVGG)                        [1, 3, 64, 64]       [1, 10]              --                   True\n",
       "├─Sequential (conv_block_1)              [1, 3, 64, 64]       [1, 10, 30, 30]      --                   True\n",
       "│    └─Conv2d (0)                        [1, 3, 64, 64]       [1, 10, 62, 62]      280                  True\n",
       "│    └─ReLU (1)                          [1, 10, 62, 62]      [1, 10, 62, 62]      --                   --\n",
       "│    └─Conv2d (2)                        [1, 10, 62, 62]      [1, 10, 60, 60]      910                  True\n",
       "│    └─ReLU (3)                          [1, 10, 60, 60]      [1, 10, 60, 60]      --                   --\n",
       "│    └─MaxPool2d (4)                     [1, 10, 60, 60]      [1, 10, 30, 30]      --                   --\n",
       "├─Sequential (conv_block_2)              [1, 10, 30, 30]      [1, 10, 13, 13]      --                   True\n",
       "│    └─Conv2d (0)                        [1, 10, 30, 30]      [1, 10, 28, 28]      910                  True\n",
       "│    └─ReLU (1)                          [1, 10, 28, 28]      [1, 10, 28, 28]      --                   --\n",
       "│    └─Conv2d (2)                        [1, 10, 28, 28]      [1, 10, 26, 26]      910                  True\n",
       "│    └─ReLU (3)                          [1, 10, 26, 26]      [1, 10, 26, 26]      --                   --\n",
       "│    └─MaxPool2d (4)                     [1, 10, 26, 26]      [1, 10, 13, 13]      --                   --\n",
       "├─Sequential (classifier)                [1, 10, 13, 13]      [1, 10]              --                   True\n",
       "│    └─Flatten (0)                       [1, 10, 13, 13]      [1, 1690]            --                   --\n",
       "│    └─Linear (1)                        [1, 1690]            [1, 10]              16,910               True\n",
       "========================================================================================================================\n",
       "Total params: 19,920\n",
       "Trainable params: 19,920\n",
       "Non-trainable params: 0\n",
       "Total mult-adds (Units.MEGABYTES): 5.70\n",
       "========================================================================================================================\n",
       "Input size (MB): 0.05\n",
       "Forward/backward pass size (MB): 0.71\n",
       "Params size (MB): 0.08\n",
       "Estimated Total Size (MB): 0.84\n",
       "========================================================================================================================"
      ]
     },
     "execution_count": 21,
     "metadata": {},
     "output_type": "execute_result"
    }
   ],
   "source": [
    "from scripts import model\n",
    "\n",
    "dropout = 0.5\n",
    "\n",
    "model_cifar = model.TinyVGG(\n",
    "                            input_shape=3,\n",
    "                            output_shape=len(cifar_class_names),\n",
    "                            hidden_units=HIDDEN_UNITS,\n",
    "                            )\n",
    "\n",
    "model_cifar_dropout = model.TinyVGG_MultiDropout(\n",
    "                            input_shape=3,\n",
    "                            output_shape=len(cifar_class_names),\n",
    "                            hidden_units=HIDDEN_UNITS,\n",
    "                            dropout=dropout\n",
    "                            )\n",
    "\n",
    "summary(model=model_cifar,\n",
    "        input_size=(1, 3, 64, 64),\n",
    "        col_names=[\"input_size\", \"output_size\", \"num_params\", \"trainable\"],\n",
    "        col_width=20,\n",
    "        row_settings=[\"var_names\"])"
   ]
  },
  {
   "cell_type": "code",
   "execution_count": 22,
   "metadata": {},
   "outputs": [],
   "source": [
    "cifar_models = [\"model_cifar\", \"model_cifar_dropout\"]\n",
    "\n",
    "# Create dataloaders dictionary for various dataloaders\n",
    "train_dataloaders_cifar = {\"no_aug\": train_dataloader_cifar,\n",
    "                     \"AutoAugment\": train_dataloader_cifar_AutoAugment,\n",
    "                     \"RandAugment\": train_dataloader_cifar_RandAugment,\n",
    "                     \"AugMix\": train_dataloader_cifar_AugMix,\n",
    "                     \"TrivialAugmentWide\": train_dataloader_cifar_TrivialAugmentWide,\n",
    "                     #\"ManualAugment\": train_dataloader_cifar_ManualAugment\n",
    "                     }"
   ]
  },
  {
   "cell_type": "markdown",
   "metadata": {},
   "source": [
    "With dataloader looping:"
   ]
  },
  {
   "cell_type": "code",
   "execution_count": 25,
   "metadata": {},
   "outputs": [
    {
     "name": "stdout",
     "output_type": "stream",
     "text": [
      "[INFO] Experiment number: 1\n",
      "[INFO] Model: model_cifar\n",
      "[INFO] DataLoader: no_aug\n",
      "[INFO] Number of epochs: 25\n",
      "[INFO] Created SummaryWriter, saving to: runs/2024-01-11/no_aug/model_cifar/25_epochs...\n"
     ]
    },
    {
     "data": {
      "application/vnd.jupyter.widget-view+json": {
       "model_id": "2f2491901e434e0a8e7bb16f7db16ff4",
       "version_major": 2,
       "version_minor": 0
      },
      "text/plain": [
       "  0%|          | 0/25 [00:00<?, ?it/s]"
      ]
     },
     "metadata": {},
     "output_type": "display_data"
    },
    {
     "name": "stdout",
     "output_type": "stream",
     "text": [
      "Epoch: 1 | train_loss: 1.4005 | train_acc: 0.4983 | test_loss: 1.3306 | test_acc: 0.5242\n",
      "Epoch: 2 | train_loss: 1.2804 | train_acc: 0.5501 | test_loss: 1.2523 | test_acc: 0.5584\n",
      "Epoch: 3 | train_loss: 1.2023 | train_acc: 0.5773 | test_loss: 1.2016 | test_acc: 0.5693\n",
      "Epoch: 4 | train_loss: 1.1549 | train_acc: 0.5948 | test_loss: 1.1958 | test_acc: 0.5747\n",
      "Epoch: 5 | train_loss: 1.1165 | train_acc: 0.6099 | test_loss: 1.1676 | test_acc: 0.5941\n",
      "Epoch: 6 | train_loss: 1.0871 | train_acc: 0.6187 | test_loss: 1.1568 | test_acc: 0.5967\n",
      "Epoch: 7 | train_loss: 1.0541 | train_acc: 0.6338 | test_loss: 1.1293 | test_acc: 0.6007\n",
      "Epoch: 8 | train_loss: 1.0276 | train_acc: 0.6404 | test_loss: 1.0930 | test_acc: 0.6164\n",
      "Epoch: 9 | train_loss: 1.0052 | train_acc: 0.6481 | test_loss: 1.0985 | test_acc: 0.6133\n",
      "Epoch: 10 | train_loss: 0.9841 | train_acc: 0.6529 | test_loss: 1.0807 | test_acc: 0.6203\n",
      "Epoch: 11 | train_loss: 0.9709 | train_acc: 0.6614 | test_loss: 1.0860 | test_acc: 0.6182\n",
      "Epoch: 12 | train_loss: 0.9573 | train_acc: 0.6630 | test_loss: 1.0973 | test_acc: 0.6138\n",
      "Epoch: 13 | train_loss: 0.9466 | train_acc: 0.6676 | test_loss: 1.0637 | test_acc: 0.6268\n",
      "Epoch: 14 | train_loss: 0.9325 | train_acc: 0.6747 | test_loss: 1.0712 | test_acc: 0.6235\n",
      "Epoch: 15 | train_loss: 0.9215 | train_acc: 0.6781 | test_loss: 1.0761 | test_acc: 0.6229\n",
      "Epoch: 16 | train_loss: 0.9105 | train_acc: 0.6818 | test_loss: 1.0719 | test_acc: 0.6238\n",
      "Epoch: 17 | train_loss: 0.9017 | train_acc: 0.6847 | test_loss: 1.0800 | test_acc: 0.6189\n",
      "Epoch: 18 | train_loss: 0.8939 | train_acc: 0.6893 | test_loss: 1.0669 | test_acc: 0.6304\n",
      "Epoch: 19 | train_loss: 0.8838 | train_acc: 0.6908 | test_loss: 1.0868 | test_acc: 0.6198\n",
      "Epoch: 20 | train_loss: 0.8788 | train_acc: 0.6950 | test_loss: 1.0661 | test_acc: 0.6304\n",
      "Epoch: 21 | train_loss: 0.8705 | train_acc: 0.6955 | test_loss: 1.1005 | test_acc: 0.6232\n",
      "Epoch: 22 | train_loss: 0.8675 | train_acc: 0.6978 | test_loss: 1.0764 | test_acc: 0.6284\n",
      "Epoch: 23 | train_loss: 0.8560 | train_acc: 0.7016 | test_loss: 1.1270 | test_acc: 0.6107\n",
      "Epoch: 24 | train_loss: 0.8543 | train_acc: 0.7013 | test_loss: 1.0730 | test_acc: 0.6355\n",
      "Epoch: 25 | train_loss: 0.8476 | train_acc: 0.7042 | test_loss: 1.0836 | test_acc: 0.6227\n",
      "[INFO] Saving model to: models/0001_model_cifar_no_aug_25_epochs.pth\n",
      "--------------------------------------------------\n",
      "\n",
      "[INFO] Experiment number: 2\n",
      "[INFO] Model: model_cifar\n",
      "[INFO] DataLoader: AutoAugment\n",
      "[INFO] Number of epochs: 25\n",
      "[INFO] Created SummaryWriter, saving to: runs/2024-01-11/AutoAugment/model_cifar/25_epochs...\n"
     ]
    },
    {
     "data": {
      "application/vnd.jupyter.widget-view+json": {
       "model_id": "6687b2dc57ee4eb6a8ef563481d0d0e4",
       "version_major": 2,
       "version_minor": 0
      },
      "text/plain": [
       "  0%|          | 0/25 [00:00<?, ?it/s]"
      ]
     },
     "metadata": {},
     "output_type": "display_data"
    },
    {
     "name": "stdout",
     "output_type": "stream",
     "text": [
      "Epoch: 1 | train_loss: 1.4275 | train_acc: 0.5179 | test_loss: 1.1227 | test_acc: 0.6039\n",
      "Epoch: 2 | train_loss: 1.3322 | train_acc: 0.5452 | test_loss: 1.1126 | test_acc: 0.6173\n",
      "Epoch: 3 | train_loss: 1.3193 | train_acc: 0.5461 | test_loss: 1.1179 | test_acc: 0.6101\n",
      "Epoch: 4 | train_loss: 1.3017 | train_acc: 0.5542 | test_loss: 1.0781 | test_acc: 0.6246\n",
      "Epoch: 5 | train_loss: 1.2879 | train_acc: 0.5546 | test_loss: 1.0765 | test_acc: 0.6197\n",
      "Epoch: 6 | train_loss: 1.2748 | train_acc: 0.5614 | test_loss: 1.0974 | test_acc: 0.6115\n",
      "Epoch: 7 | train_loss: 1.2693 | train_acc: 0.5650 | test_loss: 1.0812 | test_acc: 0.6221\n",
      "Epoch: 8 | train_loss: 1.2603 | train_acc: 0.5658 | test_loss: 1.0649 | test_acc: 0.6329\n",
      "Epoch: 9 | train_loss: 1.2571 | train_acc: 0.5665 | test_loss: 1.0473 | test_acc: 0.6379\n",
      "Epoch: 10 | train_loss: 1.2474 | train_acc: 0.5694 | test_loss: 1.0456 | test_acc: 0.6373\n",
      "Epoch: 11 | train_loss: 1.2455 | train_acc: 0.5735 | test_loss: 1.0573 | test_acc: 0.6334\n",
      "Epoch: 12 | train_loss: 1.2432 | train_acc: 0.5727 | test_loss: 1.0429 | test_acc: 0.6347\n",
      "Epoch: 13 | train_loss: 1.2389 | train_acc: 0.5730 | test_loss: 1.0641 | test_acc: 0.6349\n",
      "Epoch: 14 | train_loss: 1.2366 | train_acc: 0.5736 | test_loss: 1.0572 | test_acc: 0.6398\n",
      "Epoch: 15 | train_loss: 1.2255 | train_acc: 0.5760 | test_loss: 1.0510 | test_acc: 0.6350\n",
      "Epoch: 16 | train_loss: 1.2269 | train_acc: 0.5786 | test_loss: 1.0487 | test_acc: 0.6318\n",
      "Epoch: 17 | train_loss: 1.2183 | train_acc: 0.5787 | test_loss: 1.0536 | test_acc: 0.6325\n",
      "Epoch: 18 | train_loss: 1.2266 | train_acc: 0.5773 | test_loss: 1.0552 | test_acc: 0.6336\n",
      "Epoch: 19 | train_loss: 1.2149 | train_acc: 0.5813 | test_loss: 1.0549 | test_acc: 0.6310\n",
      "Epoch: 20 | train_loss: 1.2092 | train_acc: 0.5800 | test_loss: 1.0350 | test_acc: 0.6386\n",
      "Epoch: 21 | train_loss: 1.2120 | train_acc: 0.5830 | test_loss: 1.0353 | test_acc: 0.6375\n",
      "Epoch: 22 | train_loss: 1.2124 | train_acc: 0.5832 | test_loss: 1.0509 | test_acc: 0.6384\n",
      "Epoch: 23 | train_loss: 1.2023 | train_acc: 0.5864 | test_loss: 1.0684 | test_acc: 0.6276\n",
      "Epoch: 24 | train_loss: 1.1975 | train_acc: 0.5869 | test_loss: 1.0300 | test_acc: 0.6400\n",
      "Epoch: 25 | train_loss: 1.1989 | train_acc: 0.5861 | test_loss: 1.0353 | test_acc: 0.6393\n",
      "[INFO] Saving model to: models/0002_model_cifar_AutoAugment_25_epochs.pth\n",
      "--------------------------------------------------\n",
      "\n",
      "[INFO] Experiment number: 3\n",
      "[INFO] Model: model_cifar\n",
      "[INFO] DataLoader: RandAugment\n",
      "[INFO] Number of epochs: 25\n",
      "[INFO] Created SummaryWriter, saving to: runs/2024-01-11/RandAugment/model_cifar/25_epochs...\n"
     ]
    },
    {
     "data": {
      "application/vnd.jupyter.widget-view+json": {
       "model_id": "adb78fb33fb64542b2c7140a7cd2845f",
       "version_major": 2,
       "version_minor": 0
      },
      "text/plain": [
       "  0%|          | 0/25 [00:00<?, ?it/s]"
      ]
     },
     "metadata": {},
     "output_type": "display_data"
    },
    {
     "name": "stdout",
     "output_type": "stream",
     "text": [
      "Epoch: 1 | train_loss: 1.1690 | train_acc: 0.5901 | test_loss: 0.9965 | test_acc: 0.6516\n",
      "Epoch: 2 | train_loss: 1.1374 | train_acc: 0.6022 | test_loss: 0.9816 | test_acc: 0.6530\n",
      "Epoch: 3 | train_loss: 1.1203 | train_acc: 0.6058 | test_loss: 0.9765 | test_acc: 0.6554\n",
      "Epoch: 4 | train_loss: 1.1181 | train_acc: 0.6090 | test_loss: 0.9901 | test_acc: 0.6513\n",
      "Epoch: 5 | train_loss: 1.1063 | train_acc: 0.6120 | test_loss: 0.9627 | test_acc: 0.6612\n",
      "Epoch: 6 | train_loss: 1.1044 | train_acc: 0.6117 | test_loss: 0.9797 | test_acc: 0.6570\n",
      "Epoch: 7 | train_loss: 1.0991 | train_acc: 0.6140 | test_loss: 0.9792 | test_acc: 0.6564\n",
      "Epoch: 8 | train_loss: 1.0979 | train_acc: 0.6137 | test_loss: 0.9709 | test_acc: 0.6600\n",
      "Epoch: 9 | train_loss: 1.0947 | train_acc: 0.6182 | test_loss: 0.9743 | test_acc: 0.6606\n",
      "Epoch: 10 | train_loss: 1.0872 | train_acc: 0.6168 | test_loss: 0.9503 | test_acc: 0.6714\n",
      "Epoch: 11 | train_loss: 1.0819 | train_acc: 0.6215 | test_loss: 0.9642 | test_acc: 0.6586\n",
      "Epoch: 12 | train_loss: 1.0880 | train_acc: 0.6196 | test_loss: 0.9534 | test_acc: 0.6645\n",
      "Epoch: 13 | train_loss: 1.0848 | train_acc: 0.6186 | test_loss: 0.9712 | test_acc: 0.6593\n",
      "Epoch: 14 | train_loss: 1.0828 | train_acc: 0.6196 | test_loss: 0.9595 | test_acc: 0.6688\n",
      "Epoch: 15 | train_loss: 1.0791 | train_acc: 0.6229 | test_loss: 1.0096 | test_acc: 0.6472\n",
      "Epoch: 16 | train_loss: 1.0816 | train_acc: 0.6181 | test_loss: 0.9765 | test_acc: 0.6554\n",
      "Epoch: 17 | train_loss: 1.0768 | train_acc: 0.6213 | test_loss: 0.9730 | test_acc: 0.6602\n",
      "Epoch: 18 | train_loss: 1.0739 | train_acc: 0.6233 | test_loss: 0.9704 | test_acc: 0.6679\n",
      "Epoch: 19 | train_loss: 1.0730 | train_acc: 0.6228 | test_loss: 0.9431 | test_acc: 0.6742\n",
      "Epoch: 20 | train_loss: 1.0731 | train_acc: 0.6221 | test_loss: 0.9535 | test_acc: 0.6672\n",
      "Epoch: 21 | train_loss: 1.0709 | train_acc: 0.6257 | test_loss: 0.9480 | test_acc: 0.6730\n",
      "Epoch: 22 | train_loss: 1.0674 | train_acc: 0.6237 | test_loss: 0.9643 | test_acc: 0.6653\n",
      "Epoch: 23 | train_loss: 1.0656 | train_acc: 0.6268 | test_loss: 0.9567 | test_acc: 0.6667\n",
      "Epoch: 24 | train_loss: 1.0706 | train_acc: 0.6260 | test_loss: 0.9759 | test_acc: 0.6621\n",
      "Epoch: 25 | train_loss: 1.0630 | train_acc: 0.6264 | test_loss: 0.9487 | test_acc: 0.6651\n",
      "[INFO] Saving model to: models/0003_model_cifar_RandAugment_25_epochs.pth\n",
      "--------------------------------------------------\n",
      "\n",
      "[INFO] Experiment number: 4\n",
      "[INFO] Model: model_cifar\n",
      "[INFO] DataLoader: AugMix\n",
      "[INFO] Number of epochs: 25\n",
      "[INFO] Created SummaryWriter, saving to: runs/2024-01-11/AugMix/model_cifar/25_epochs...\n"
     ]
    },
    {
     "data": {
      "application/vnd.jupyter.widget-view+json": {
       "model_id": "c0fa7d3e8d604c1f8e2251313b99695c",
       "version_major": 2,
       "version_minor": 0
      },
      "text/plain": [
       "  0%|          | 0/25 [00:00<?, ?it/s]"
      ]
     },
     "metadata": {},
     "output_type": "display_data"
    },
    {
     "name": "stdout",
     "output_type": "stream",
     "text": [
      "Epoch: 1 | train_loss: 0.9201 | train_acc: 0.6772 | test_loss: 0.9387 | test_acc: 0.6726\n",
      "Epoch: 2 | train_loss: 0.9091 | train_acc: 0.6824 | test_loss: 0.9525 | test_acc: 0.6626\n",
      "Epoch: 3 | train_loss: 0.8957 | train_acc: 0.6870 | test_loss: 0.9465 | test_acc: 0.6681\n",
      "Epoch: 4 | train_loss: 0.8895 | train_acc: 0.6879 | test_loss: 0.9745 | test_acc: 0.6615\n",
      "Epoch: 5 | train_loss: 0.8814 | train_acc: 0.6927 | test_loss: 0.9532 | test_acc: 0.6719\n",
      "Epoch: 6 | train_loss: 0.8765 | train_acc: 0.6912 | test_loss: 0.9548 | test_acc: 0.6723\n",
      "Epoch: 7 | train_loss: 0.8798 | train_acc: 0.6911 | test_loss: 0.9789 | test_acc: 0.6610\n",
      "Epoch: 8 | train_loss: 0.8725 | train_acc: 0.6942 | test_loss: 0.9651 | test_acc: 0.6672\n",
      "Epoch: 9 | train_loss: 0.8696 | train_acc: 0.6954 | test_loss: 1.0034 | test_acc: 0.6555\n",
      "Epoch: 10 | train_loss: 0.8632 | train_acc: 0.6984 | test_loss: 0.9866 | test_acc: 0.6589\n",
      "Epoch: 11 | train_loss: 0.8691 | train_acc: 0.6967 | test_loss: 0.9859 | test_acc: 0.6564\n",
      "Epoch: 12 | train_loss: 0.8626 | train_acc: 0.6979 | test_loss: 0.9935 | test_acc: 0.6566\n",
      "Epoch: 13 | train_loss: 0.8583 | train_acc: 0.6993 | test_loss: 0.9686 | test_acc: 0.6666\n",
      "Epoch: 14 | train_loss: 0.8608 | train_acc: 0.6979 | test_loss: 1.0014 | test_acc: 0.6577\n",
      "Epoch: 15 | train_loss: 0.8578 | train_acc: 0.6982 | test_loss: 0.9697 | test_acc: 0.6663\n",
      "Epoch: 16 | train_loss: 0.8574 | train_acc: 0.7019 | test_loss: 0.9698 | test_acc: 0.6650\n",
      "Epoch: 17 | train_loss: 0.8577 | train_acc: 0.6984 | test_loss: 1.0060 | test_acc: 0.6538\n",
      "Epoch: 18 | train_loss: 0.8492 | train_acc: 0.7031 | test_loss: 0.9767 | test_acc: 0.6624\n",
      "Epoch: 19 | train_loss: 0.8499 | train_acc: 0.7007 | test_loss: 1.0056 | test_acc: 0.6482\n",
      "Epoch: 20 | train_loss: 0.8486 | train_acc: 0.7026 | test_loss: 0.9768 | test_acc: 0.6630\n",
      "Epoch: 21 | train_loss: 0.8505 | train_acc: 0.7029 | test_loss: 0.9802 | test_acc: 0.6600\n",
      "Epoch: 22 | train_loss: 0.8458 | train_acc: 0.7038 | test_loss: 0.9831 | test_acc: 0.6628\n",
      "Epoch: 23 | train_loss: 0.8465 | train_acc: 0.7030 | test_loss: 0.9908 | test_acc: 0.6539\n",
      "Epoch: 24 | train_loss: 0.8481 | train_acc: 0.7020 | test_loss: 0.9865 | test_acc: 0.6583\n",
      "Epoch: 25 | train_loss: 0.8475 | train_acc: 0.7016 | test_loss: 0.9761 | test_acc: 0.6679\n",
      "[INFO] Saving model to: models/0004_model_cifar_AugMix_25_epochs.pth\n",
      "--------------------------------------------------\n",
      "\n",
      "[INFO] Experiment number: 5\n",
      "[INFO] Model: model_cifar\n",
      "[INFO] DataLoader: TrivialAugmentWide\n",
      "[INFO] Number of epochs: 25\n",
      "[INFO] Created SummaryWriter, saving to: runs/2024-01-11/TrivialAugmentWide/model_cifar/25_epochs...\n"
     ]
    },
    {
     "data": {
      "application/vnd.jupyter.widget-view+json": {
       "model_id": "7ada1cc72e1c4562b9077db2ef2f6c3e",
       "version_major": 2,
       "version_minor": 0
      },
      "text/plain": [
       "  0%|          | 0/25 [00:00<?, ?it/s]"
      ]
     },
     "metadata": {},
     "output_type": "display_data"
    },
    {
     "name": "stdout",
     "output_type": "stream",
     "text": [
      "Epoch: 1 | train_loss: 1.3117 | train_acc: 0.5566 | test_loss: 0.9987 | test_acc: 0.6487\n",
      "Epoch: 2 | train_loss: 1.2740 | train_acc: 0.5588 | test_loss: 0.9875 | test_acc: 0.6530\n",
      "Epoch: 3 | train_loss: 1.2611 | train_acc: 0.5649 | test_loss: 0.9784 | test_acc: 0.6536\n",
      "Epoch: 4 | train_loss: 1.2569 | train_acc: 0.5643 | test_loss: 0.9712 | test_acc: 0.6563\n",
      "Epoch: 5 | train_loss: 1.2556 | train_acc: 0.5653 | test_loss: 0.9750 | test_acc: 0.6578\n",
      "Epoch: 6 | train_loss: 1.2488 | train_acc: 0.5651 | test_loss: 0.9777 | test_acc: 0.6550\n",
      "Epoch: 7 | train_loss: 1.2494 | train_acc: 0.5654 | test_loss: 0.9741 | test_acc: 0.6596\n",
      "Epoch: 8 | train_loss: 1.2426 | train_acc: 0.5673 | test_loss: 0.9740 | test_acc: 0.6623\n",
      "Epoch: 9 | train_loss: 1.2347 | train_acc: 0.5696 | test_loss: 0.9889 | test_acc: 0.6538\n",
      "Epoch: 10 | train_loss: 1.2346 | train_acc: 0.5692 | test_loss: 0.9632 | test_acc: 0.6630\n",
      "Epoch: 11 | train_loss: 1.2342 | train_acc: 0.5713 | test_loss: 0.9800 | test_acc: 0.6576\n",
      "Epoch: 12 | train_loss: 1.2327 | train_acc: 0.5698 | test_loss: 0.9720 | test_acc: 0.6596\n",
      "Epoch: 13 | train_loss: 1.2282 | train_acc: 0.5717 | test_loss: 0.9674 | test_acc: 0.6599\n",
      "Epoch: 14 | train_loss: 1.2303 | train_acc: 0.5708 | test_loss: 0.9745 | test_acc: 0.6588\n",
      "Epoch: 15 | train_loss: 1.2310 | train_acc: 0.5719 | test_loss: 0.9734 | test_acc: 0.6628\n",
      "Epoch: 16 | train_loss: 1.2266 | train_acc: 0.5717 | test_loss: 0.9728 | test_acc: 0.6557\n",
      "Epoch: 17 | train_loss: 1.2303 | train_acc: 0.5711 | test_loss: 0.9651 | test_acc: 0.6655\n",
      "Epoch: 18 | train_loss: 1.2239 | train_acc: 0.5728 | test_loss: 0.9726 | test_acc: 0.6589\n",
      "Epoch: 19 | train_loss: 1.2208 | train_acc: 0.5745 | test_loss: 0.9823 | test_acc: 0.6565\n",
      "Epoch: 20 | train_loss: 1.2187 | train_acc: 0.5734 | test_loss: 0.9739 | test_acc: 0.6587\n",
      "Epoch: 21 | train_loss: 1.2198 | train_acc: 0.5726 | test_loss: 0.9777 | test_acc: 0.6566\n",
      "Epoch: 22 | train_loss: 1.2232 | train_acc: 0.5746 | test_loss: 0.9567 | test_acc: 0.6659\n",
      "Epoch: 23 | train_loss: 1.2260 | train_acc: 0.5711 | test_loss: 0.9836 | test_acc: 0.6521\n",
      "Epoch: 24 | train_loss: 1.2238 | train_acc: 0.5720 | test_loss: 0.9701 | test_acc: 0.6630\n",
      "Epoch: 25 | train_loss: 1.2136 | train_acc: 0.5774 | test_loss: 0.9539 | test_acc: 0.6660\n",
      "[INFO] Saving model to: models/0005_model_cifar_TrivialAugmentWide_25_epochs.pth\n",
      "--------------------------------------------------\n",
      "\n",
      "[INFO] Experiment number: 6\n",
      "[INFO] Model: model_cifar\n",
      "[INFO] DataLoader: ManualAugment\n",
      "[INFO] Number of epochs: 25\n",
      "[INFO] Created SummaryWriter, saving to: runs/2024-01-11/ManualAugment/model_cifar/25_epochs...\n"
     ]
    },
    {
     "data": {
      "application/vnd.jupyter.widget-view+json": {
       "model_id": "ccce1ff0fa6c45cba8504ff3d21b28ed",
       "version_major": 2,
       "version_minor": 0
      },
      "text/plain": [
       "  0%|          | 0/25 [00:00<?, ?it/s]"
      ]
     },
     "metadata": {},
     "output_type": "display_data"
    },
    {
     "name": "stdout",
     "output_type": "stream",
     "text": [
      "Epoch: 1 | train_loss: 1.6429 | train_acc: 0.3949 | test_loss: 1.1188 | test_acc: 0.5971\n",
      "Epoch: 2 | train_loss: 1.5641 | train_acc: 0.4263 | test_loss: 1.1265 | test_acc: 0.6000\n",
      "Epoch: 3 | train_loss: 1.5386 | train_acc: 0.4357 | test_loss: 1.1683 | test_acc: 0.5860\n",
      "Epoch: 4 | train_loss: 1.5212 | train_acc: 0.4435 | test_loss: 1.1655 | test_acc: 0.5808\n",
      "Epoch: 5 | train_loss: 1.5064 | train_acc: 0.4496 | test_loss: 1.2327 | test_acc: 0.5629\n",
      "Epoch: 6 | train_loss: 1.4934 | train_acc: 0.4544 | test_loss: 1.1627 | test_acc: 0.5834\n",
      "Epoch: 7 | train_loss: 1.4857 | train_acc: 0.4595 | test_loss: 1.1697 | test_acc: 0.5734\n",
      "Epoch: 8 | train_loss: 1.4775 | train_acc: 0.4619 | test_loss: 1.1981 | test_acc: 0.5657\n",
      "Epoch: 9 | train_loss: 1.4674 | train_acc: 0.4672 | test_loss: 1.1922 | test_acc: 0.5723\n",
      "Epoch: 10 | train_loss: 1.4704 | train_acc: 0.4666 | test_loss: 1.1941 | test_acc: 0.5723\n",
      "Epoch: 11 | train_loss: 1.4564 | train_acc: 0.4720 | test_loss: 1.1983 | test_acc: 0.5715\n",
      "Epoch: 12 | train_loss: 1.4577 | train_acc: 0.4715 | test_loss: 1.2026 | test_acc: 0.5628\n",
      "Epoch: 13 | train_loss: 1.4585 | train_acc: 0.4739 | test_loss: 1.1881 | test_acc: 0.5716\n",
      "Epoch: 14 | train_loss: 1.4556 | train_acc: 0.4738 | test_loss: 1.2002 | test_acc: 0.5637\n",
      "Epoch: 15 | train_loss: 1.4491 | train_acc: 0.4744 | test_loss: 1.1734 | test_acc: 0.5774\n",
      "Epoch: 16 | train_loss: 1.4470 | train_acc: 0.4772 | test_loss: 1.2058 | test_acc: 0.5657\n",
      "Epoch: 17 | train_loss: 1.4435 | train_acc: 0.4756 | test_loss: 1.1980 | test_acc: 0.5675\n",
      "Epoch: 18 | train_loss: 1.4402 | train_acc: 0.4802 | test_loss: 1.1772 | test_acc: 0.5786\n",
      "Epoch: 19 | train_loss: 1.4402 | train_acc: 0.4806 | test_loss: 1.1957 | test_acc: 0.5662\n",
      "Epoch: 20 | train_loss: 1.4376 | train_acc: 0.4806 | test_loss: 1.1746 | test_acc: 0.5723\n",
      "Epoch: 21 | train_loss: 1.4322 | train_acc: 0.4824 | test_loss: 1.2153 | test_acc: 0.5586\n",
      "Epoch: 22 | train_loss: 1.4307 | train_acc: 0.4806 | test_loss: 1.1886 | test_acc: 0.5652\n",
      "Epoch: 23 | train_loss: 1.4229 | train_acc: 0.4850 | test_loss: 1.1737 | test_acc: 0.5754\n",
      "Epoch: 24 | train_loss: 1.4248 | train_acc: 0.4833 | test_loss: 1.2065 | test_acc: 0.5602\n",
      "Epoch: 25 | train_loss: 1.4256 | train_acc: 0.4857 | test_loss: 1.2366 | test_acc: 0.5470\n",
      "[INFO] Saving model to: models/0006_model_cifar_ManualAugment_25_epochs.pth\n",
      "--------------------------------------------------\n",
      "\n",
      "CPU times: user 15min 53s, sys: 2min 16s, total: 18min 9s\n",
      "Wall time: 18min 10s\n"
     ]
    }
   ],
   "source": [
    "%%time\n",
    "\n",
    "from scripts.utils import save_model\n",
    "from scripts.engine import train\n",
    "from lib.experiment_tracking import create_writer\n",
    "\n",
    "# 1. Set the random seeds\n",
    "hf.set_seeds(seed=42)\n",
    "\n",
    "# 2. Keep track of experiment numbers\n",
    "experiment_number = 0\n",
    "\n",
    "# 3. Loop through each DataLoader\n",
    "for dataloader_name, train_dataloader_cifar in train_dataloaders_cifar.items():\n",
    "\n",
    "    # 4. Loop through each number of epochs\n",
    "    for epochs in num_epochs: \n",
    "      \n",
    "        model_name = \"model_cifar\"\n",
    "\n",
    "        # 6. Create information print outs\n",
    "        experiment_number += 1\n",
    "        print(f\"[INFO] Experiment number: {experiment_number}\")\n",
    "        print(f\"[INFO] Model: {model_name}\")\n",
    "        print(f\"[INFO] DataLoader: {dataloader_name}\")\n",
    "        print(f\"[INFO] Number of epochs: {epochs}\")\n",
    "\n",
    "        # 7. Select the model\n",
    "        model = model_cifar\n",
    "\n",
    "        # 8. Create a new loss and optimizer for every model\n",
    "        loss_fn = nn.CrossEntropyLoss()\n",
    "        optimizer = torch.optim.Adam(params=model.parameters(), lr=lr)\n",
    "\n",
    "        # 9. Train target model with target dataloaders and track experiments\n",
    "        train(model=model,\n",
    "              train_dataloader=train_dataloader_cifar,\n",
    "              test_dataloader=test_dataloader_cifar,\n",
    "              optimizer=optimizer,\n",
    "              loss_fn=loss_fn,\n",
    "              epochs=epochs,\n",
    "              device=device,\n",
    "              writer=create_writer(experiment_name=dataloader_name,\n",
    "                                    model_name=model_name,\n",
    "                                    extra=f\"{epochs}_epochs\"))\n",
    "        \n",
    "        # 10. Save the model to file so we can get back the best model\n",
    "        save_filepath = f\"{experiment_number:04d}_{model_name}_{dataloader_name}_{epochs}_epochs.pth\"\n",
    "        save_model(model=model,\n",
    "                    target_dir=\"models\",\n",
    "                    model_name=save_filepath)\n",
    "        print(\"-\"*50 + \"\\n\")"
   ]
  },
  {
   "cell_type": "code",
   "execution_count": null,
   "metadata": {},
   "outputs": [],
   "source": [
    "%load_ext tensorboard\n",
    "%tensorboard --logdir runs"
   ]
  },
  {
   "cell_type": "markdown",
   "metadata": {},
   "source": [
    "### Dog breeds model and experiments"
   ]
  },
  {
   "cell_type": "code",
   "execution_count": 22,
   "metadata": {},
   "outputs": [
    {
     "data": {
      "text/plain": [
       "========================================================================================================================\n",
       "Layer (type (var_name))                  Input Shape          Output Shape         Param #              Trainable\n",
       "========================================================================================================================\n",
       "TinyVGG (TinyVGG)                        [1, 3, 64, 64]       [1, 3]               --                   True\n",
       "├─Sequential (conv_block_1)              [1, 3, 64, 64]       [1, 10, 30, 30]      --                   True\n",
       "│    └─Conv2d (0)                        [1, 3, 64, 64]       [1, 10, 62, 62]      280                  True\n",
       "│    └─ReLU (1)                          [1, 10, 62, 62]      [1, 10, 62, 62]      --                   --\n",
       "│    └─Conv2d (2)                        [1, 10, 62, 62]      [1, 10, 60, 60]      910                  True\n",
       "│    └─ReLU (3)                          [1, 10, 60, 60]      [1, 10, 60, 60]      --                   --\n",
       "│    └─MaxPool2d (4)                     [1, 10, 60, 60]      [1, 10, 30, 30]      --                   --\n",
       "├─Sequential (conv_block_2)              [1, 10, 30, 30]      [1, 10, 13, 13]      --                   True\n",
       "│    └─Conv2d (0)                        [1, 10, 30, 30]      [1, 10, 28, 28]      910                  True\n",
       "│    └─ReLU (1)                          [1, 10, 28, 28]      [1, 10, 28, 28]      --                   --\n",
       "│    └─Conv2d (2)                        [1, 10, 28, 28]      [1, 10, 26, 26]      910                  True\n",
       "│    └─ReLU (3)                          [1, 10, 26, 26]      [1, 10, 26, 26]      --                   --\n",
       "│    └─MaxPool2d (4)                     [1, 10, 26, 26]      [1, 10, 13, 13]      --                   --\n",
       "├─Sequential (classifier)                [1, 10, 13, 13]      [1, 3]               --                   True\n",
       "│    └─Flatten (0)                       [1, 10, 13, 13]      [1, 1690]            --                   --\n",
       "│    └─Linear (1)                        [1, 1690]            [1, 3]               5,073                True\n",
       "========================================================================================================================\n",
       "Total params: 8,083\n",
       "Trainable params: 8,083\n",
       "Non-trainable params: 0\n",
       "Total mult-adds (Units.MEGABYTES): 5.69\n",
       "========================================================================================================================\n",
       "Input size (MB): 0.05\n",
       "Forward/backward pass size (MB): 0.71\n",
       "Params size (MB): 0.03\n",
       "Estimated Total Size (MB): 0.79\n",
       "========================================================================================================================"
      ]
     },
     "execution_count": 22,
     "metadata": {},
     "output_type": "execute_result"
    }
   ],
   "source": [
    "from scripts import model\n",
    "\n",
    "dropout = 0.5\n",
    "\n",
    "model_dog = model.TinyVGG(\n",
    "                            input_shape=3,\n",
    "                            output_shape=len(dog_class_names),\n",
    "                            hidden_units=HIDDEN_UNITS,\n",
    "                            )\n",
    "\n",
    "model_dog_cifar = model.TinyVGG_MultiDropout(\n",
    "                            input_shape=3,\n",
    "                            output_shape=len(dog_class_names),\n",
    "                            hidden_units=HIDDEN_UNITS,\n",
    "                            dropout=dropout\n",
    "                            )\n",
    "\n",
    "summary(model=model_dog,\n",
    "        input_size=(1, 3, 64, 64),\n",
    "        col_names=[\"input_size\", \"output_size\", \"num_params\", \"trainable\"],\n",
    "        col_width=20,\n",
    "        row_settings=[\"var_names\"])"
   ]
  },
  {
   "cell_type": "code",
   "execution_count": 23,
   "metadata": {},
   "outputs": [],
   "source": [
    "# Create models list\n",
    "models = [\"model_dog\", \"model_dog_dropout\"]\n",
    "\n",
    "# Create dataloaders dictionary for various dataloaders\n",
    "train_dataloaders_dog = {\"no_aug\": train_dataloader_dog,\n",
    "                     #\"AutoAugment\": train_dataloader_dog_AutoAugment,\n",
    "                     #\"RandAugment\": train_dataloader_dog_RandAugment,\n",
    "                     \"AugMix\": train_dataloader_dog_AugMix,\n",
    "                     #\"TrivialAugmentWide\": train_dataloader_dog_TrivialAugmentWide,\n",
    "                     #\"ManualAugment\": train_dataloader_dog_ManualAugment\n",
    "                     }"
   ]
  },
  {
   "cell_type": "code",
   "execution_count": 24,
   "metadata": {},
   "outputs": [
    {
     "name": "stdout",
     "output_type": "stream",
     "text": [
      "[INFO] Experiment number: 1\n",
      "[INFO] Model: model_dog\n",
      "[INFO] DataLoader: no_aug\n",
      "[INFO] Number of epochs: 100\n",
      "[INFO] Created SummaryWriter, saving to: runs/2024-01-11/no_aug/model_dog/100_epochs...\n"
     ]
    },
    {
     "data": {
      "application/vnd.jupyter.widget-view+json": {
       "model_id": "68d2d18c7f34400b98f7ad93d76d24cb",
       "version_major": 2,
       "version_minor": 0
      },
      "text/plain": [
       "  0%|          | 0/100 [00:00<?, ?it/s]"
      ]
     },
     "metadata": {},
     "output_type": "display_data"
    },
    {
     "name": "stdout",
     "output_type": "stream",
     "text": [
      "Epoch: 1 | train_loss: 1.0994 | train_acc: 0.3279 | test_loss: 1.1001 | test_acc: 0.3158\n",
      "Epoch: 2 | train_loss: 1.0994 | train_acc: 0.3272 | test_loss: 1.0991 | test_acc: 0.3298\n",
      "Epoch: 3 | train_loss: 1.0993 | train_acc: 0.3270 | test_loss: 1.0992 | test_acc: 0.3298\n",
      "Epoch: 4 | train_loss: 1.0992 | train_acc: 0.3278 | test_loss: 1.0988 | test_acc: 0.3368\n",
      "Epoch: 5 | train_loss: 1.0992 | train_acc: 0.3272 | test_loss: 1.0998 | test_acc: 0.3228\n",
      "Epoch: 6 | train_loss: 1.0992 | train_acc: 0.3278 | test_loss: 1.0993 | test_acc: 0.3298\n",
      "Epoch: 7 | train_loss: 1.0991 | train_acc: 0.3274 | test_loss: 1.0994 | test_acc: 0.3248\n",
      "Epoch: 8 | train_loss: 1.0991 | train_acc: 0.3278 | test_loss: 1.0986 | test_acc: 0.3387\n",
      "Epoch: 9 | train_loss: 1.0990 | train_acc: 0.3285 | test_loss: 1.0993 | test_acc: 0.3287\n",
      "Epoch: 10 | train_loss: 1.0990 | train_acc: 0.3269 | test_loss: 1.0992 | test_acc: 0.3306\n",
      "Epoch: 11 | train_loss: 1.0989 | train_acc: 0.3261 | test_loss: 1.0994 | test_acc: 0.3186\n",
      "Epoch: 12 | train_loss: 1.0989 | train_acc: 0.3257 | test_loss: 1.0989 | test_acc: 0.3376\n",
      "Epoch: 13 | train_loss: 1.0989 | train_acc: 0.3231 | test_loss: 1.0986 | test_acc: 0.3574\n",
      "Epoch: 14 | train_loss: 1.0988 | train_acc: 0.3215 | test_loss: 1.0985 | test_acc: 0.3465\n",
      "Epoch: 15 | train_loss: 1.0988 | train_acc: 0.3238 | test_loss: 1.0986 | test_acc: 0.3407\n",
      "Epoch: 16 | train_loss: 1.0988 | train_acc: 0.3242 | test_loss: 1.0990 | test_acc: 0.3357\n",
      "Epoch: 17 | train_loss: 1.0987 | train_acc: 0.3225 | test_loss: 1.0986 | test_acc: 0.3504\n",
      "Epoch: 18 | train_loss: 1.0987 | train_acc: 0.3209 | test_loss: 1.0990 | test_acc: 0.3225\n",
      "Epoch: 19 | train_loss: 1.0987 | train_acc: 0.3222 | test_loss: 1.0989 | test_acc: 0.3267\n",
      "Epoch: 20 | train_loss: 1.0987 | train_acc: 0.3279 | test_loss: 1.0988 | test_acc: 0.3287\n",
      "Epoch: 21 | train_loss: 1.0986 | train_acc: 0.3224 | test_loss: 1.0987 | test_acc: 0.3504\n",
      "Epoch: 22 | train_loss: 1.0986 | train_acc: 0.3194 | test_loss: 1.0986 | test_acc: 0.3248\n",
      "Epoch: 23 | train_loss: 1.0986 | train_acc: 0.3171 | test_loss: 1.0986 | test_acc: 0.3259\n",
      "Epoch: 24 | train_loss: 1.0986 | train_acc: 0.3171 | test_loss: 1.0987 | test_acc: 0.2944\n",
      "Epoch: 25 | train_loss: 1.0985 | train_acc: 0.3127 | test_loss: 1.0987 | test_acc: 0.3072\n",
      "Epoch: 26 | train_loss: 1.0985 | train_acc: 0.3161 | test_loss: 1.0983 | test_acc: 0.3440\n",
      "Epoch: 27 | train_loss: 1.0985 | train_acc: 0.3254 | test_loss: 1.0986 | test_acc: 0.3181\n",
      "Epoch: 28 | train_loss: 1.0985 | train_acc: 0.3307 | test_loss: 1.0987 | test_acc: 0.3267\n",
      "Epoch: 29 | train_loss: 1.0985 | train_acc: 0.3402 | test_loss: 1.0989 | test_acc: 0.3058\n",
      "Epoch: 30 | train_loss: 1.0985 | train_acc: 0.3413 | test_loss: 1.0985 | test_acc: 0.3387\n",
      "Epoch: 31 | train_loss: 1.0984 | train_acc: 0.3376 | test_loss: 1.0983 | test_acc: 0.3527\n",
      "Epoch: 32 | train_loss: 1.0984 | train_acc: 0.3416 | test_loss: 1.0985 | test_acc: 0.3524\n",
      "Epoch: 33 | train_loss: 1.0984 | train_acc: 0.3455 | test_loss: 1.0986 | test_acc: 0.3563\n",
      "Epoch: 34 | train_loss: 1.0984 | train_acc: 0.3545 | test_loss: 1.0983 | test_acc: 0.3622\n",
      "Epoch: 35 | train_loss: 1.0984 | train_acc: 0.3544 | test_loss: 1.0984 | test_acc: 0.3630\n",
      "Epoch: 36 | train_loss: 1.0983 | train_acc: 0.3587 | test_loss: 1.0985 | test_acc: 0.3650\n",
      "Epoch: 37 | train_loss: 1.0983 | train_acc: 0.3613 | test_loss: 1.0983 | test_acc: 0.3809\n",
      "Epoch: 38 | train_loss: 1.0983 | train_acc: 0.3703 | test_loss: 1.0983 | test_acc: 0.3809\n",
      "Epoch: 39 | train_loss: 1.0983 | train_acc: 0.3706 | test_loss: 1.0989 | test_acc: 0.3421\n",
      "Epoch: 40 | train_loss: 1.0983 | train_acc: 0.3731 | test_loss: 1.0983 | test_acc: 0.3778\n",
      "Epoch: 41 | train_loss: 1.0983 | train_acc: 0.3713 | test_loss: 1.0985 | test_acc: 0.3510\n",
      "Epoch: 42 | train_loss: 1.0982 | train_acc: 0.3692 | test_loss: 1.0981 | test_acc: 0.3789\n",
      "Epoch: 43 | train_loss: 1.0982 | train_acc: 0.3745 | test_loss: 1.0982 | test_acc: 0.3859\n",
      "Epoch: 44 | train_loss: 1.0982 | train_acc: 0.3779 | test_loss: 1.0983 | test_acc: 0.3689\n",
      "Epoch: 45 | train_loss: 1.0982 | train_acc: 0.3747 | test_loss: 1.0982 | test_acc: 0.3758\n",
      "Epoch: 46 | train_loss: 1.0982 | train_acc: 0.3789 | test_loss: 1.0987 | test_acc: 0.3440\n",
      "Epoch: 47 | train_loss: 1.0981 | train_acc: 0.3776 | test_loss: 1.0977 | test_acc: 0.3809\n",
      "Epoch: 48 | train_loss: 1.0981 | train_acc: 0.3820 | test_loss: 1.0980 | test_acc: 0.3758\n",
      "Epoch: 49 | train_loss: 1.0981 | train_acc: 0.3773 | test_loss: 1.0980 | test_acc: 0.3848\n",
      "Epoch: 50 | train_loss: 1.0981 | train_acc: 0.3839 | test_loss: 1.0984 | test_acc: 0.3569\n",
      "Epoch: 51 | train_loss: 1.0981 | train_acc: 0.3847 | test_loss: 1.0980 | test_acc: 0.3739\n",
      "Epoch: 52 | train_loss: 1.0980 | train_acc: 0.3841 | test_loss: 1.0985 | test_acc: 0.3638\n",
      "Epoch: 53 | train_loss: 1.0980 | train_acc: 0.3926 | test_loss: 1.0979 | test_acc: 0.3937\n",
      "Epoch: 54 | train_loss: 1.0980 | train_acc: 0.3923 | test_loss: 1.0985 | test_acc: 0.3499\n",
      "Epoch: 55 | train_loss: 1.0980 | train_acc: 0.3928 | test_loss: 1.0979 | test_acc: 0.3708\n",
      "Epoch: 56 | train_loss: 1.0979 | train_acc: 0.3938 | test_loss: 1.0985 | test_acc: 0.3518\n",
      "Epoch: 57 | train_loss: 1.0980 | train_acc: 0.3881 | test_loss: 1.0981 | test_acc: 0.3588\n",
      "Epoch: 58 | train_loss: 1.0979 | train_acc: 0.3918 | test_loss: 1.0982 | test_acc: 0.3588\n",
      "Epoch: 59 | train_loss: 1.0979 | train_acc: 0.3902 | test_loss: 1.0983 | test_acc: 0.3569\n",
      "Epoch: 60 | train_loss: 1.0979 | train_acc: 0.3934 | test_loss: 1.0979 | test_acc: 0.3898\n",
      "Epoch: 61 | train_loss: 1.0979 | train_acc: 0.4001 | test_loss: 1.0985 | test_acc: 0.3569\n",
      "Epoch: 62 | train_loss: 1.0978 | train_acc: 0.3993 | test_loss: 1.0981 | test_acc: 0.3708\n",
      "Epoch: 63 | train_loss: 1.0978 | train_acc: 0.4017 | test_loss: 1.0979 | test_acc: 0.3747\n",
      "Epoch: 64 | train_loss: 1.0978 | train_acc: 0.4062 | test_loss: 1.0975 | test_acc: 0.3747\n",
      "Epoch: 65 | train_loss: 1.0978 | train_acc: 0.3993 | test_loss: 1.0983 | test_acc: 0.3627\n",
      "Epoch: 66 | train_loss: 1.0977 | train_acc: 0.4087 | test_loss: 1.0976 | test_acc: 0.3996\n",
      "Epoch: 67 | train_loss: 1.0977 | train_acc: 0.4135 | test_loss: 1.0977 | test_acc: 0.3736\n",
      "Epoch: 68 | train_loss: 1.0977 | train_acc: 0.4114 | test_loss: 1.0979 | test_acc: 0.3756\n",
      "Epoch: 69 | train_loss: 1.0976 | train_acc: 0.4070 | test_loss: 1.0979 | test_acc: 0.3845\n",
      "Epoch: 70 | train_loss: 1.0976 | train_acc: 0.4127 | test_loss: 1.0984 | test_acc: 0.3605\n",
      "Epoch: 71 | train_loss: 1.0976 | train_acc: 0.4168 | test_loss: 1.0975 | test_acc: 0.4023\n",
      "Epoch: 72 | train_loss: 1.0976 | train_acc: 0.4161 | test_loss: 1.0983 | test_acc: 0.3714\n",
      "Epoch: 73 | train_loss: 1.0975 | train_acc: 0.4157 | test_loss: 1.0975 | test_acc: 0.3993\n",
      "Epoch: 74 | train_loss: 1.0975 | train_acc: 0.4166 | test_loss: 1.0976 | test_acc: 0.3993\n",
      "Epoch: 75 | train_loss: 1.0975 | train_acc: 0.4171 | test_loss: 1.0973 | test_acc: 0.3943\n",
      "Epoch: 76 | train_loss: 1.0974 | train_acc: 0.4153 | test_loss: 1.0969 | test_acc: 0.4152\n",
      "Epoch: 77 | train_loss: 1.0974 | train_acc: 0.4211 | test_loss: 1.0976 | test_acc: 0.3923\n",
      "Epoch: 78 | train_loss: 1.0974 | train_acc: 0.4237 | test_loss: 1.0971 | test_acc: 0.3873\n",
      "Epoch: 79 | train_loss: 1.0973 | train_acc: 0.4244 | test_loss: 1.0970 | test_acc: 0.4012\n",
      "Epoch: 80 | train_loss: 1.0973 | train_acc: 0.4234 | test_loss: 1.0973 | test_acc: 0.4230\n",
      "Epoch: 81 | train_loss: 1.0972 | train_acc: 0.4231 | test_loss: 1.0976 | test_acc: 0.4021\n",
      "Epoch: 82 | train_loss: 1.0972 | train_acc: 0.4203 | test_loss: 1.0979 | test_acc: 0.3970\n",
      "Epoch: 83 | train_loss: 1.0972 | train_acc: 0.4269 | test_loss: 1.0972 | test_acc: 0.4060\n",
      "Epoch: 84 | train_loss: 1.0971 | train_acc: 0.4255 | test_loss: 1.0976 | test_acc: 0.3990\n",
      "Epoch: 85 | train_loss: 1.0971 | train_acc: 0.4289 | test_loss: 1.0973 | test_acc: 0.4060\n",
      "Epoch: 86 | train_loss: 1.0970 | train_acc: 0.4241 | test_loss: 1.0973 | test_acc: 0.4079\n",
      "Epoch: 87 | train_loss: 1.0970 | train_acc: 0.4282 | test_loss: 1.0966 | test_acc: 0.4199\n",
      "Epoch: 88 | train_loss: 1.0970 | train_acc: 0.4291 | test_loss: 1.0966 | test_acc: 0.4238\n",
      "Epoch: 89 | train_loss: 1.0969 | train_acc: 0.4338 | test_loss: 1.0970 | test_acc: 0.4079\n",
      "Epoch: 90 | train_loss: 1.0969 | train_acc: 0.4341 | test_loss: 1.0965 | test_acc: 0.4269\n",
      "Epoch: 91 | train_loss: 1.0968 | train_acc: 0.4363 | test_loss: 1.0971 | test_acc: 0.4040\n",
      "Epoch: 92 | train_loss: 1.0968 | train_acc: 0.4336 | test_loss: 1.0964 | test_acc: 0.4180\n",
      "Epoch: 93 | train_loss: 1.0967 | train_acc: 0.4396 | test_loss: 1.0971 | test_acc: 0.4021\n",
      "Epoch: 94 | train_loss: 1.0967 | train_acc: 0.4386 | test_loss: 1.0956 | test_acc: 0.4249\n",
      "Epoch: 95 | train_loss: 1.0966 | train_acc: 0.4369 | test_loss: 1.0968 | test_acc: 0.4040\n",
      "Epoch: 96 | train_loss: 1.0966 | train_acc: 0.4370 | test_loss: 1.0963 | test_acc: 0.4180\n",
      "Epoch: 97 | train_loss: 1.0965 | train_acc: 0.4387 | test_loss: 1.0971 | test_acc: 0.4029\n",
      "Epoch: 98 | train_loss: 1.0965 | train_acc: 0.4469 | test_loss: 1.0955 | test_acc: 0.4448\n",
      "Epoch: 99 | train_loss: 1.0964 | train_acc: 0.4469 | test_loss: 1.0958 | test_acc: 0.4258\n",
      "Epoch: 100 | train_loss: 1.0963 | train_acc: 0.4455 | test_loss: 1.0959 | test_acc: 0.4347\n",
      "[INFO] Saving model to: models/0001_model_dog_no_aug_100_epochs_4.pth\n",
      "--------------------------------------------------\n",
      "\n",
      "[INFO] Experiment number: 2\n",
      "[INFO] Model: model_dog\n",
      "[INFO] DataLoader: AugMix\n",
      "[INFO] Number of epochs: 100\n",
      "[INFO] Created SummaryWriter, saving to: runs/2024-01-11/AugMix/model_dog/100_epochs...\n"
     ]
    },
    {
     "data": {
      "application/vnd.jupyter.widget-view+json": {
       "model_id": "e2064ad1590c4f3892435892e3c303e7",
       "version_major": 2,
       "version_minor": 0
      },
      "text/plain": [
       "  0%|          | 0/100 [00:00<?, ?it/s]"
      ]
     },
     "metadata": {},
     "output_type": "display_data"
    },
    {
     "name": "stdout",
     "output_type": "stream",
     "text": [
      "Epoch: 1 | train_loss: 1.0964 | train_acc: 0.4457 | test_loss: 1.0961 | test_acc: 0.4088\n",
      "Epoch: 2 | train_loss: 1.0962 | train_acc: 0.4382 | test_loss: 1.0966 | test_acc: 0.4157\n",
      "Epoch: 3 | train_loss: 1.0961 | train_acc: 0.4462 | test_loss: 1.0958 | test_acc: 0.4277\n",
      "Epoch: 4 | train_loss: 1.0962 | train_acc: 0.4413 | test_loss: 1.0953 | test_acc: 0.4417\n",
      "Epoch: 5 | train_loss: 1.0961 | train_acc: 0.4413 | test_loss: 1.0960 | test_acc: 0.4068\n",
      "Epoch: 6 | train_loss: 1.0960 | train_acc: 0.4459 | test_loss: 1.0958 | test_acc: 0.4049\n",
      "Epoch: 7 | train_loss: 1.0958 | train_acc: 0.4476 | test_loss: 1.0957 | test_acc: 0.4169\n",
      "Epoch: 8 | train_loss: 1.0958 | train_acc: 0.4445 | test_loss: 1.0961 | test_acc: 0.4099\n",
      "Epoch: 9 | train_loss: 1.0957 | train_acc: 0.4431 | test_loss: 1.0963 | test_acc: 0.4099\n",
      "Epoch: 10 | train_loss: 1.0957 | train_acc: 0.4527 | test_loss: 1.0957 | test_acc: 0.4238\n",
      "Epoch: 11 | train_loss: 1.0955 | train_acc: 0.4445 | test_loss: 1.0959 | test_acc: 0.4029\n",
      "Epoch: 12 | train_loss: 1.0956 | train_acc: 0.4484 | test_loss: 1.0949 | test_acc: 0.4258\n",
      "Epoch: 13 | train_loss: 1.0954 | train_acc: 0.4496 | test_loss: 1.0956 | test_acc: 0.4099\n",
      "Epoch: 14 | train_loss: 1.0953 | train_acc: 0.4426 | test_loss: 1.0950 | test_acc: 0.4149\n",
      "Epoch: 15 | train_loss: 1.0953 | train_acc: 0.4556 | test_loss: 1.0951 | test_acc: 0.4188\n",
      "Epoch: 16 | train_loss: 1.0951 | train_acc: 0.4458 | test_loss: 1.0952 | test_acc: 0.3940\n",
      "Epoch: 17 | train_loss: 1.0951 | train_acc: 0.4564 | test_loss: 1.0949 | test_acc: 0.4169\n"
     ]
    },
    {
     "ename": "KeyboardInterrupt",
     "evalue": "",
     "output_type": "error",
     "traceback": [
      "\u001b[0;31m---------------------------------------------------------------------------\u001b[0m",
      "\u001b[0;31mKeyboardInterrupt\u001b[0m                         Traceback (most recent call last)",
      "File \u001b[0;32m<timed exec>:35\u001b[0m\n",
      "File \u001b[0;32m~/GitHub/02461-project/scripts/engine.py:197\u001b[0m, in \u001b[0;36mtrain\u001b[0;34m(model, train_dataloader, test_dataloader, optimizer, loss_fn, epochs, device, writer)\u001b[0m\n\u001b[1;32m    195\u001b[0m \u001b[38;5;66;03m# Loop through training and testing steps for a number of epochs\u001b[39;00m\n\u001b[1;32m    196\u001b[0m \u001b[38;5;28;01mfor\u001b[39;00m epoch \u001b[38;5;129;01min\u001b[39;00m tqdm(\u001b[38;5;28mrange\u001b[39m(epochs)):\n\u001b[0;32m--> 197\u001b[0m     train_loss, train_acc \u001b[38;5;241m=\u001b[39m \u001b[43mtrain_step\u001b[49m\u001b[43m(\u001b[49m\u001b[43mmodel\u001b[49m\u001b[38;5;241;43m=\u001b[39;49m\u001b[43mmodel\u001b[49m\u001b[43m,\u001b[49m\n\u001b[1;32m    198\u001b[0m \u001b[43m                                       \u001b[49m\u001b[43mdataloader\u001b[49m\u001b[38;5;241;43m=\u001b[39;49m\u001b[43mtrain_dataloader\u001b[49m\u001b[43m,\u001b[49m\n\u001b[1;32m    199\u001b[0m \u001b[43m                                       \u001b[49m\u001b[43mloss_fn\u001b[49m\u001b[38;5;241;43m=\u001b[39;49m\u001b[43mloss_fn\u001b[49m\u001b[43m,\u001b[49m\n\u001b[1;32m    200\u001b[0m \u001b[43m                                       \u001b[49m\u001b[43moptimizer\u001b[49m\u001b[38;5;241;43m=\u001b[39;49m\u001b[43moptimizer\u001b[49m\u001b[43m,\u001b[49m\n\u001b[1;32m    201\u001b[0m \u001b[43m                                       \u001b[49m\u001b[43mdevice\u001b[49m\u001b[38;5;241;43m=\u001b[39;49m\u001b[43mdevice\u001b[49m\u001b[43m)\u001b[49m\n\u001b[1;32m    203\u001b[0m     test_loss, test_acc \u001b[38;5;241m=\u001b[39m test_step(model\u001b[38;5;241m=\u001b[39mmodel,\n\u001b[1;32m    204\u001b[0m                                     dataloader\u001b[38;5;241m=\u001b[39mtest_dataloader,\n\u001b[1;32m    205\u001b[0m                                     loss_fn\u001b[38;5;241m=\u001b[39mloss_fn,\n\u001b[1;32m    206\u001b[0m                                     device\u001b[38;5;241m=\u001b[39mdevice)\n\u001b[1;32m    208\u001b[0m     \u001b[38;5;66;03m# Print out what's happening\u001b[39;00m\n",
      "File \u001b[0;32m~/GitHub/02461-project/scripts/engine.py:49\u001b[0m, in \u001b[0;36mtrain_step\u001b[0;34m(model, dataloader, loss_fn, optimizer, device)\u001b[0m\n\u001b[1;32m     46\u001b[0m train_loss, train_acc \u001b[38;5;241m=\u001b[39m \u001b[38;5;241m0\u001b[39m, \u001b[38;5;241m0\u001b[39m\n\u001b[1;32m     48\u001b[0m \u001b[38;5;66;03m# Loop through data loader data batches\u001b[39;00m\n\u001b[0;32m---> 49\u001b[0m \u001b[43m\u001b[49m\u001b[38;5;28;43;01mfor\u001b[39;49;00m\u001b[43m \u001b[49m\u001b[43mbatch\u001b[49m\u001b[43m,\u001b[49m\u001b[43m \u001b[49m\u001b[43m(\u001b[49m\u001b[43mX\u001b[49m\u001b[43m,\u001b[49m\u001b[43m \u001b[49m\u001b[43my\u001b[49m\u001b[43m)\u001b[49m\u001b[43m \u001b[49m\u001b[38;5;129;43;01min\u001b[39;49;00m\u001b[43m \u001b[49m\u001b[38;5;28;43menumerate\u001b[39;49m\u001b[43m(\u001b[49m\u001b[43mdataloader\u001b[49m\u001b[43m)\u001b[49m\u001b[43m:\u001b[49m\n\u001b[1;32m     50\u001b[0m \u001b[43m    \u001b[49m\u001b[38;5;66;43;03m# Send data to target device\u001b[39;49;00m\n\u001b[1;32m     51\u001b[0m \u001b[43m    \u001b[49m\u001b[43mX\u001b[49m\u001b[43m,\u001b[49m\u001b[43m \u001b[49m\u001b[43my\u001b[49m\u001b[43m \u001b[49m\u001b[38;5;241;43m=\u001b[39;49m\u001b[43m \u001b[49m\u001b[43mX\u001b[49m\u001b[38;5;241;43m.\u001b[39;49m\u001b[43mto\u001b[49m\u001b[43m(\u001b[49m\u001b[43mdevice\u001b[49m\u001b[43m)\u001b[49m\u001b[43m,\u001b[49m\u001b[43m \u001b[49m\u001b[43my\u001b[49m\u001b[38;5;241;43m.\u001b[39;49m\u001b[43mto\u001b[49m\u001b[43m(\u001b[49m\u001b[43mdevice\u001b[49m\u001b[43m)\u001b[49m\n\u001b[1;32m     53\u001b[0m \u001b[43m    \u001b[49m\u001b[38;5;66;43;03m# 1. Forward pass\u001b[39;49;00m\n",
      "File \u001b[0;32m~/python-dtu/lib/python3.11/site-packages/torch/utils/data/dataloader.py:630\u001b[0m, in \u001b[0;36m_BaseDataLoaderIter.__next__\u001b[0;34m(self)\u001b[0m\n\u001b[1;32m    627\u001b[0m \u001b[38;5;28;01mif\u001b[39;00m \u001b[38;5;28mself\u001b[39m\u001b[38;5;241m.\u001b[39m_sampler_iter \u001b[38;5;129;01mis\u001b[39;00m \u001b[38;5;28;01mNone\u001b[39;00m:\n\u001b[1;32m    628\u001b[0m     \u001b[38;5;66;03m# TODO(https://github.com/pytorch/pytorch/issues/76750)\u001b[39;00m\n\u001b[1;32m    629\u001b[0m     \u001b[38;5;28mself\u001b[39m\u001b[38;5;241m.\u001b[39m_reset()  \u001b[38;5;66;03m# type: ignore[call-arg]\u001b[39;00m\n\u001b[0;32m--> 630\u001b[0m data \u001b[38;5;241m=\u001b[39m \u001b[38;5;28;43mself\u001b[39;49m\u001b[38;5;241;43m.\u001b[39;49m\u001b[43m_next_data\u001b[49m\u001b[43m(\u001b[49m\u001b[43m)\u001b[49m\n\u001b[1;32m    631\u001b[0m \u001b[38;5;28mself\u001b[39m\u001b[38;5;241m.\u001b[39m_num_yielded \u001b[38;5;241m+\u001b[39m\u001b[38;5;241m=\u001b[39m \u001b[38;5;241m1\u001b[39m\n\u001b[1;32m    632\u001b[0m \u001b[38;5;28;01mif\u001b[39;00m \u001b[38;5;28mself\u001b[39m\u001b[38;5;241m.\u001b[39m_dataset_kind \u001b[38;5;241m==\u001b[39m _DatasetKind\u001b[38;5;241m.\u001b[39mIterable \u001b[38;5;129;01mand\u001b[39;00m \\\n\u001b[1;32m    633\u001b[0m         \u001b[38;5;28mself\u001b[39m\u001b[38;5;241m.\u001b[39m_IterableDataset_len_called \u001b[38;5;129;01mis\u001b[39;00m \u001b[38;5;129;01mnot\u001b[39;00m \u001b[38;5;28;01mNone\u001b[39;00m \u001b[38;5;129;01mand\u001b[39;00m \\\n\u001b[1;32m    634\u001b[0m         \u001b[38;5;28mself\u001b[39m\u001b[38;5;241m.\u001b[39m_num_yielded \u001b[38;5;241m>\u001b[39m \u001b[38;5;28mself\u001b[39m\u001b[38;5;241m.\u001b[39m_IterableDataset_len_called:\n",
      "File \u001b[0;32m~/python-dtu/lib/python3.11/site-packages/torch/utils/data/dataloader.py:1328\u001b[0m, in \u001b[0;36m_MultiProcessingDataLoaderIter._next_data\u001b[0;34m(self)\u001b[0m\n\u001b[1;32m   1325\u001b[0m     \u001b[38;5;28;01mreturn\u001b[39;00m \u001b[38;5;28mself\u001b[39m\u001b[38;5;241m.\u001b[39m_process_data(data)\n\u001b[1;32m   1327\u001b[0m \u001b[38;5;28;01massert\u001b[39;00m \u001b[38;5;129;01mnot\u001b[39;00m \u001b[38;5;28mself\u001b[39m\u001b[38;5;241m.\u001b[39m_shutdown \u001b[38;5;129;01mand\u001b[39;00m \u001b[38;5;28mself\u001b[39m\u001b[38;5;241m.\u001b[39m_tasks_outstanding \u001b[38;5;241m>\u001b[39m \u001b[38;5;241m0\u001b[39m\n\u001b[0;32m-> 1328\u001b[0m idx, data \u001b[38;5;241m=\u001b[39m \u001b[38;5;28;43mself\u001b[39;49m\u001b[38;5;241;43m.\u001b[39;49m\u001b[43m_get_data\u001b[49m\u001b[43m(\u001b[49m\u001b[43m)\u001b[49m\n\u001b[1;32m   1329\u001b[0m \u001b[38;5;28mself\u001b[39m\u001b[38;5;241m.\u001b[39m_tasks_outstanding \u001b[38;5;241m-\u001b[39m\u001b[38;5;241m=\u001b[39m \u001b[38;5;241m1\u001b[39m\n\u001b[1;32m   1330\u001b[0m \u001b[38;5;28;01mif\u001b[39;00m \u001b[38;5;28mself\u001b[39m\u001b[38;5;241m.\u001b[39m_dataset_kind \u001b[38;5;241m==\u001b[39m _DatasetKind\u001b[38;5;241m.\u001b[39mIterable:\n\u001b[1;32m   1331\u001b[0m     \u001b[38;5;66;03m# Check for _IterableDatasetStopIteration\u001b[39;00m\n",
      "File \u001b[0;32m~/python-dtu/lib/python3.11/site-packages/torch/utils/data/dataloader.py:1284\u001b[0m, in \u001b[0;36m_MultiProcessingDataLoaderIter._get_data\u001b[0;34m(self)\u001b[0m\n\u001b[1;32m   1282\u001b[0m \u001b[38;5;28;01melif\u001b[39;00m \u001b[38;5;28mself\u001b[39m\u001b[38;5;241m.\u001b[39m_pin_memory:\n\u001b[1;32m   1283\u001b[0m     \u001b[38;5;28;01mwhile\u001b[39;00m \u001b[38;5;28mself\u001b[39m\u001b[38;5;241m.\u001b[39m_pin_memory_thread\u001b[38;5;241m.\u001b[39mis_alive():\n\u001b[0;32m-> 1284\u001b[0m         success, data \u001b[38;5;241m=\u001b[39m \u001b[38;5;28;43mself\u001b[39;49m\u001b[38;5;241;43m.\u001b[39;49m\u001b[43m_try_get_data\u001b[49m\u001b[43m(\u001b[49m\u001b[43m)\u001b[49m\n\u001b[1;32m   1285\u001b[0m         \u001b[38;5;28;01mif\u001b[39;00m success:\n\u001b[1;32m   1286\u001b[0m             \u001b[38;5;28;01mreturn\u001b[39;00m data\n",
      "File \u001b[0;32m~/python-dtu/lib/python3.11/site-packages/torch/utils/data/dataloader.py:1132\u001b[0m, in \u001b[0;36m_MultiProcessingDataLoaderIter._try_get_data\u001b[0;34m(self, timeout)\u001b[0m\n\u001b[1;32m   1119\u001b[0m \u001b[38;5;28;01mdef\u001b[39;00m \u001b[38;5;21m_try_get_data\u001b[39m(\u001b[38;5;28mself\u001b[39m, timeout\u001b[38;5;241m=\u001b[39m_utils\u001b[38;5;241m.\u001b[39mMP_STATUS_CHECK_INTERVAL):\n\u001b[1;32m   1120\u001b[0m     \u001b[38;5;66;03m# Tries to fetch data from `self._data_queue` once for a given timeout.\u001b[39;00m\n\u001b[1;32m   1121\u001b[0m     \u001b[38;5;66;03m# This can also be used as inner loop of fetching without timeout, with\u001b[39;00m\n\u001b[0;32m   (...)\u001b[0m\n\u001b[1;32m   1129\u001b[0m     \u001b[38;5;66;03m# Returns a 2-tuple:\u001b[39;00m\n\u001b[1;32m   1130\u001b[0m     \u001b[38;5;66;03m#   (bool: whether successfully get data, any: data if successful else None)\u001b[39;00m\n\u001b[1;32m   1131\u001b[0m     \u001b[38;5;28;01mtry\u001b[39;00m:\n\u001b[0;32m-> 1132\u001b[0m         data \u001b[38;5;241m=\u001b[39m \u001b[38;5;28;43mself\u001b[39;49m\u001b[38;5;241;43m.\u001b[39;49m\u001b[43m_data_queue\u001b[49m\u001b[38;5;241;43m.\u001b[39;49m\u001b[43mget\u001b[49m\u001b[43m(\u001b[49m\u001b[43mtimeout\u001b[49m\u001b[38;5;241;43m=\u001b[39;49m\u001b[43mtimeout\u001b[49m\u001b[43m)\u001b[49m\n\u001b[1;32m   1133\u001b[0m         \u001b[38;5;28;01mreturn\u001b[39;00m (\u001b[38;5;28;01mTrue\u001b[39;00m, data)\n\u001b[1;32m   1134\u001b[0m     \u001b[38;5;28;01mexcept\u001b[39;00m \u001b[38;5;167;01mException\u001b[39;00m \u001b[38;5;28;01mas\u001b[39;00m e:\n\u001b[1;32m   1135\u001b[0m         \u001b[38;5;66;03m# At timeout and error, we manually check whether any worker has\u001b[39;00m\n\u001b[1;32m   1136\u001b[0m         \u001b[38;5;66;03m# failed. Note that this is the only mechanism for Windows to detect\u001b[39;00m\n\u001b[1;32m   1137\u001b[0m         \u001b[38;5;66;03m# worker failures.\u001b[39;00m\n",
      "File \u001b[0;32m/usr/lib/python3.11/queue.py:180\u001b[0m, in \u001b[0;36mQueue.get\u001b[0;34m(self, block, timeout)\u001b[0m\n\u001b[1;32m    178\u001b[0m         \u001b[38;5;28;01mif\u001b[39;00m remaining \u001b[38;5;241m<\u001b[39m\u001b[38;5;241m=\u001b[39m \u001b[38;5;241m0.0\u001b[39m:\n\u001b[1;32m    179\u001b[0m             \u001b[38;5;28;01mraise\u001b[39;00m Empty\n\u001b[0;32m--> 180\u001b[0m         \u001b[38;5;28;43mself\u001b[39;49m\u001b[38;5;241;43m.\u001b[39;49m\u001b[43mnot_empty\u001b[49m\u001b[38;5;241;43m.\u001b[39;49m\u001b[43mwait\u001b[49m\u001b[43m(\u001b[49m\u001b[43mremaining\u001b[49m\u001b[43m)\u001b[49m\n\u001b[1;32m    181\u001b[0m item \u001b[38;5;241m=\u001b[39m \u001b[38;5;28mself\u001b[39m\u001b[38;5;241m.\u001b[39m_get()\n\u001b[1;32m    182\u001b[0m \u001b[38;5;28mself\u001b[39m\u001b[38;5;241m.\u001b[39mnot_full\u001b[38;5;241m.\u001b[39mnotify()\n",
      "File \u001b[0;32m/usr/lib/python3.11/threading.py:324\u001b[0m, in \u001b[0;36mCondition.wait\u001b[0;34m(self, timeout)\u001b[0m\n\u001b[1;32m    322\u001b[0m \u001b[38;5;28;01melse\u001b[39;00m:\n\u001b[1;32m    323\u001b[0m     \u001b[38;5;28;01mif\u001b[39;00m timeout \u001b[38;5;241m>\u001b[39m \u001b[38;5;241m0\u001b[39m:\n\u001b[0;32m--> 324\u001b[0m         gotit \u001b[38;5;241m=\u001b[39m \u001b[43mwaiter\u001b[49m\u001b[38;5;241;43m.\u001b[39;49m\u001b[43macquire\u001b[49m\u001b[43m(\u001b[49m\u001b[38;5;28;43;01mTrue\u001b[39;49;00m\u001b[43m,\u001b[49m\u001b[43m \u001b[49m\u001b[43mtimeout\u001b[49m\u001b[43m)\u001b[49m\n\u001b[1;32m    325\u001b[0m     \u001b[38;5;28;01melse\u001b[39;00m:\n\u001b[1;32m    326\u001b[0m         gotit \u001b[38;5;241m=\u001b[39m waiter\u001b[38;5;241m.\u001b[39macquire(\u001b[38;5;28;01mFalse\u001b[39;00m)\n",
      "\u001b[0;31mKeyboardInterrupt\u001b[0m: "
     ]
    }
   ],
   "source": [
    "%%time\n",
    "from scripts.utils import save_model\n",
    "from scripts.engine import train\n",
    "from lib.experiment_tracking import create_writer\n",
    "\n",
    "# 1. Set the random seeds\n",
    "hf.set_seeds(seed=42)\n",
    "\n",
    "# 2. Keep track of experiment numbers\n",
    "experiment_number = 0\n",
    "\n",
    "# 3. Loop through each DataLoader\n",
    "for dataloader_name, train_dataloader_dog in train_dataloaders_dog.items():\n",
    "\n",
    "    # 4. Loop through each number of epochs\n",
    "    for epochs in num_epochs: \n",
    "      \n",
    "        model_name = \"model_dog\"\n",
    "\n",
    "         # 6. Create information print outs\n",
    "        experiment_number += 1\n",
    "        print(f\"[INFO] Experiment number: {experiment_number}\")\n",
    "        print(f\"[INFO] Model: {model_name}\")\n",
    "        print(f\"[INFO] DataLoader: {dataloader_name}\")\n",
    "        print(f\"[INFO] Number of epochs: {epochs}\")  \n",
    "\n",
    "        # 7. Select the model\n",
    "        model = model_dog\n",
    "\n",
    "        # 8. Create a new loss and optimizer for every model\n",
    "        loss_fn = nn.CrossEntropyLoss()\n",
    "        optimizer = torch.optim.Adam(params=model.parameters(), lr=lr)\n",
    "        #optimizer = torch.optim.SGD(model.parameters(), lr=lr)\n",
    "\n",
    "        # 9. Train target model with target dataloaders and track experiments\n",
    "        train(model=model,\n",
    "              train_dataloader=train_dataloader_dog,\n",
    "              test_dataloader=test_dataloader_dog,\n",
    "              optimizer=optimizer,\n",
    "              loss_fn=loss_fn,\n",
    "              epochs=epochs,\n",
    "              device=device,\n",
    "              writer=create_writer(experiment_name=dataloader_name,\n",
    "                                    model_name=model_name,\n",
    "                                    extra=f\"{epochs}_epochs\"))\n",
    "        \n",
    "        # 10. Save the model to file so we can get back the best model\n",
    "        save_filepath = f\"{experiment_number:04d}_{model_name}_{dataloader_name}_{epochs}_epochs.pth\"\n",
    "        save_model(model=model,\n",
    "                    target_dir=\"models\",\n",
    "                    model_name=save_filepath)\n",
    "        print(\"-\"*50 + \"\\n\")"
   ]
  },
  {
   "cell_type": "code",
   "execution_count": null,
   "metadata": {},
   "outputs": [],
   "source": [
    "%load_ext tensorboard\n",
    "%tensorboard --logdir runs"
   ]
  }
 ],
 "metadata": {
  "kernelspec": {
   "display_name": "python-dtu",
   "language": "python",
   "name": "python3"
  },
  "language_info": {
   "codemirror_mode": {
    "name": "ipython",
    "version": 3
   },
   "file_extension": ".py",
   "mimetype": "text/x-python",
   "name": "python",
   "nbconvert_exporter": "python",
   "pygments_lexer": "ipython3",
   "version": "3.11.0rc1"
  }
 },
 "nbformat": 4,
 "nbformat_minor": 2
}
